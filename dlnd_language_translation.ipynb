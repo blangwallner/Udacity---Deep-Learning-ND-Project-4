{
 "cells": [
  {
   "cell_type": "markdown",
   "metadata": {
    "collapsed": true,
    "deletable": true,
    "editable": true
   },
   "source": [
    "# Language Translation\n",
    "In this project, you’re going to take a peek into the realm of neural network machine translation.  You’ll be training a sequence to sequence model on a dataset of English and French sentences that can translate new sentences from English to French.\n",
    "## Get the Data\n",
    "Since translating the whole language of English to French will take lots of time to train, we have provided you with a small portion of the English corpus."
   ]
  },
  {
   "cell_type": "code",
   "execution_count": 90,
   "metadata": {
    "collapsed": false,
    "deletable": true,
    "editable": true
   },
   "outputs": [],
   "source": [
    "\"\"\"\n",
    "DON'T MODIFY ANYTHING IN THIS CELL\n",
    "\"\"\"\n",
    "import helper\n",
    "import problem_unittests as tests\n",
    "\n",
    "source_path = 'data/small_vocab_en'\n",
    "target_path = 'data/small_vocab_fr'\n",
    "source_text = helper.load_data(source_path)\n",
    "target_text = helper.load_data(target_path)"
   ]
  },
  {
   "cell_type": "markdown",
   "metadata": {
    "deletable": true,
    "editable": true
   },
   "source": [
    "## Explore the Data\n",
    "Play around with view_sentence_range to view different parts of the data."
   ]
  },
  {
   "cell_type": "code",
   "execution_count": 91,
   "metadata": {
    "collapsed": false,
    "deletable": true,
    "editable": true
   },
   "outputs": [
    {
     "name": "stdout",
     "output_type": "stream",
     "text": [
      "Dataset Stats\n",
      "Roughly the number of unique words: 227\n",
      "Number of sentences: 137861\n",
      "Average number of words in a sentence: 13.225277634719028\n",
      "\n",
      "English sentences 1000 to 1020:\n",
      "they like strawberries , pears , and bananas .\n",
      "their least liked fruit is the orange , but his least liked is the mango .\n",
      "france is beautiful during spring , and it is never mild in july .\n",
      "paris is usually beautiful during june , but it is never rainy in november .\n",
      "paris is beautiful during september , and it is sometimes rainy in january .\n",
      "india is usually hot during december , and it is never nice in september .\n",
      "the united states is sometimes dry during spring , and it is usually pleasant in autumn .\n",
      "he dislikes strawberries , grapes , and peaches .\n",
      "lemons are your least favorite fruit.\n",
      "paris is never cold during june , and it is sometimes chilly in august .\n",
      "india is never mild during june , but it is never nice in spring .\n",
      "china is sometimes dry during october , but it is never beautiful in spring .\n",
      "china is beautiful during february , but it is usually busy in august .\n",
      "our least favorite fruit is the pear , but my least favorite is the banana .\n",
      "your least liked fruit is the lemon , but our least liked is the pear .\n",
      "the lime is their favorite fruit , but the apple is her favorite .\n",
      "his most loved fruit is the mango , but our most loved is the banana .\n",
      "china is usually snowy during september , but it is beautiful in december .\n",
      "the lime is our least favorite fruit , but the pear is your least favorite.\n",
      "france is sometimes cold during july , but it is never snowy in fall .\n",
      "\n",
      "French sentences 1000 to 1020:\n",
      "ils aiment les fraises , les poires et les bananes .\n",
      "leurs fruits moins aimé est l'orange , mais son moins aimé est la mangue .\n",
      "la france est belle au printemps , et il est jamais doux en juillet .\n",
      "paris est généralement beau en juin , mais jamais des pluies en novembre .\n",
      "paris est beau au mois de septembre , et il est parfois pluvieux en janvier .\n",
      "l' inde est habituellement chaud en décembre , et il est jamais agréable en septembre .\n",
      "les états-unis est parfois sec au printemps , et il est généralement agréable à l' automne .\n",
      "il n'aime les fraises , les raisins et les pêches .\n",
      "les citrons sont votre fruit préféré moins .\n",
      "paris ne fait jamais froid en juin , et il est parfois frisquet en août .\n",
      "l' inde est jamais doux en juin , mais il est jamais agréable au printemps .\n",
      "chine est parfois sèche en octobre , mais il est jamais belle au printemps .\n",
      "chine est belle en février , mais il est généralement occupé en août .\n",
      "notre fruit préféré est moins la poire , mais mon préféré moins est la banane .\n",
      "votre fruit est moins aimé le citron , mais notre moins aimé est la poire .\n",
      "la chaux est leur fruit préféré , mais la pomme est son favori .\n",
      "son fruit le plus aimé est la mangue , mais notre plus aimé est la banane .\n",
      "chine est généralement enneigée en septembre , mais il est beau en décembre .\n",
      "la chaux est notre fruit préféré moins , mais la poire est votre préféré moins .\n",
      "la france est parfois froid en juillet , mais jamais de neige à l' automne .\n"
     ]
    }
   ],
   "source": [
    "view_sentence_range = (1000, 1020)\n",
    "\n",
    "\"\"\"\n",
    "DON'T MODIFY ANYTHING IN THIS CELL\n",
    "\"\"\"\n",
    "import numpy as np\n",
    "\n",
    "print('Dataset Stats')\n",
    "print('Roughly the number of unique words: {}'.format(len({word: None for word in source_text.split()})))\n",
    "\n",
    "sentences = source_text.split('\\n')\n",
    "word_counts = [len(sentence.split()) for sentence in sentences]\n",
    "print('Number of sentences: {}'.format(len(sentences)))\n",
    "print('Average number of words in a sentence: {}'.format(np.average(word_counts)))\n",
    "\n",
    "print()\n",
    "print('English sentences {} to {}:'.format(*view_sentence_range))\n",
    "print('\\n'.join(source_text.split('\\n')[view_sentence_range[0]:view_sentence_range[1]]))\n",
    "print()\n",
    "print('French sentences {} to {}:'.format(*view_sentence_range))\n",
    "print('\\n'.join(target_text.split('\\n')[view_sentence_range[0]:view_sentence_range[1]]))"
   ]
  },
  {
   "cell_type": "markdown",
   "metadata": {
    "deletable": true,
    "editable": true
   },
   "source": [
    "## Implement Preprocessing Function\n",
    "### Text to Word Ids\n",
    "As you did with other RNNs, you must turn the text into a number so the computer can understand it. In the function `text_to_ids()`, you'll turn `source_text` and `target_text` from words to ids.  However, you need to add the `<EOS>` word id at the end of each sentence from `target_text`.  This will help the neural network predict when the sentence should end.\n",
    "\n",
    "You can get the `<EOS>` word id by doing:\n",
    "```python\n",
    "target_vocab_to_int['<EOS>']\n",
    "```\n",
    "You can get other word ids using `source_vocab_to_int` and `target_vocab_to_int`."
   ]
  },
  {
   "cell_type": "code",
   "execution_count": 92,
   "metadata": {
    "collapsed": false,
    "deletable": true,
    "editable": true
   },
   "outputs": [
    {
     "name": "stdout",
     "output_type": "stream",
     "text": [
      "Tests Passed\n"
     ]
    }
   ],
   "source": [
    "def text_to_ids(source_text, target_text, source_vocab_to_int, target_vocab_to_int):\n",
    "    \"\"\"\n",
    "    Convert source and target text to proper word ids\n",
    "    :param source_text: String that contains all the source text.\n",
    "    :param target_text: String that contains all the target text.\n",
    "    :param source_vocab_to_int: Dictionary to go from the source words to an id\n",
    "    :param target_vocab_to_int: Dictionary to go from the target words to an id\n",
    "    :return: A tuple of lists (source_id_text, target_id_text)\n",
    "    \"\"\"\n",
    "    target_vocab_to_int[''] = 0\n",
    "    source_vocab_to_int[''] = 0\n",
    "    \n",
    "    # TODO: Implement Function\n",
    "    source_lines_words = [line.split(' ') for line in source_text.split('\\n')]\n",
    "    source_id_text = [[source_vocab_to_int[word] for word in line] for line in source_lines_words ] \n",
    "    \n",
    "    target_lines_words = [line.split(' ')+['<EOS>'] for line in target_text.split('\\n')]\n",
    "    target_id_text = [[target_vocab_to_int[word] for word in line] for line in target_lines_words ]\n",
    "       \n",
    "    return source_id_text, target_id_text\n",
    "\n",
    "\"\"\"\n",
    "DON'T MODIFY ANYTHING IN THIS CELL THAT IS BELOW THIS LINE\n",
    "\"\"\"\n",
    "tests.test_text_to_ids(text_to_ids)"
   ]
  },
  {
   "cell_type": "markdown",
   "metadata": {
    "deletable": true,
    "editable": true
   },
   "source": [
    "### Preprocess all the data and save it\n",
    "Running the code cell below will preprocess all the data and save it to file."
   ]
  },
  {
   "cell_type": "code",
   "execution_count": 93,
   "metadata": {
    "collapsed": false,
    "deletable": true,
    "editable": true
   },
   "outputs": [],
   "source": [
    "\"\"\"\n",
    "DON'T MODIFY ANYTHING IN THIS CELL\n",
    "\"\"\"\n",
    "helper.preprocess_and_save_data(source_path, target_path, text_to_ids)"
   ]
  },
  {
   "cell_type": "markdown",
   "metadata": {
    "deletable": true,
    "editable": true
   },
   "source": [
    "# Check Point\n",
    "This is your first checkpoint. If you ever decide to come back to this notebook or have to restart the notebook, you can start from here. The preprocessed data has been saved to disk."
   ]
  },
  {
   "cell_type": "code",
   "execution_count": 94,
   "metadata": {
    "collapsed": false,
    "deletable": true,
    "editable": true
   },
   "outputs": [],
   "source": [
    "\"\"\"\n",
    "DON'T MODIFY ANYTHING IN THIS CELL\n",
    "\"\"\"\n",
    "import numpy as np\n",
    "import helper\n",
    "\n",
    "(source_int_text, target_int_text), (source_vocab_to_int, target_vocab_to_int), _ = helper.load_preprocess()"
   ]
  },
  {
   "cell_type": "markdown",
   "metadata": {
    "deletable": true,
    "editable": true
   },
   "source": [
    "### Check the Version of TensorFlow and Access to GPU\n",
    "This will check to make sure you have the correct version of TensorFlow and access to a GPU"
   ]
  },
  {
   "cell_type": "code",
   "execution_count": 95,
   "metadata": {
    "collapsed": false,
    "deletable": true,
    "editable": true
   },
   "outputs": [
    {
     "name": "stdout",
     "output_type": "stream",
     "text": [
      "TensorFlow Version: 1.0.0\n"
     ]
    },
    {
     "name": "stderr",
     "output_type": "stream",
     "text": [
      "/Users/bernhardlangwallner/anaconda/lib/python3.5/site-packages/ipykernel/__main__.py:14: UserWarning: No GPU found. Please use a GPU to train your neural network.\n"
     ]
    }
   ],
   "source": [
    "\"\"\"\n",
    "DON'T MODIFY ANYTHING IN THIS CELL\n",
    "\"\"\"\n",
    "from distutils.version import LooseVersion\n",
    "import warnings\n",
    "import tensorflow as tf\n",
    "\n",
    "# Check TensorFlow Version\n",
    "assert LooseVersion(tf.__version__) >= LooseVersion('1.0'), 'Please use TensorFlow version 1.0 or newer'\n",
    "print('TensorFlow Version: {}'.format(tf.__version__))\n",
    "\n",
    "# Check for a GPU\n",
    "if not tf.test.gpu_device_name():\n",
    "    warnings.warn('No GPU found. Please use a GPU to train your neural network.')\n",
    "else:\n",
    "    print('Default GPU Device: {}'.format(tf.test.gpu_device_name()))"
   ]
  },
  {
   "cell_type": "markdown",
   "metadata": {
    "deletable": true,
    "editable": true
   },
   "source": [
    "## Build the Neural Network\n",
    "You'll build the components necessary to build a Sequence-to-Sequence model by implementing the following functions below:\n",
    "- `model_inputs`\n",
    "- `process_encoding_input`\n",
    "- `encoding_layer`\n",
    "- `decoding_layer_train`\n",
    "- `decoding_layer_infer`\n",
    "- `decoding_layer`\n",
    "- `seq2seq_model`\n",
    "\n",
    "### Input\n",
    "Implement the `model_inputs()` function to create TF Placeholders for the Neural Network. It should create the following placeholders:\n",
    "\n",
    "- Input text placeholder named \"input\" using the TF Placeholder name parameter with rank 2.\n",
    "- Targets placeholder with rank 2.\n",
    "- Learning rate placeholder with rank 0.\n",
    "- Keep probability placeholder named \"keep_prob\" using the TF Placeholder name parameter with rank 0.\n",
    "\n",
    "Return the placeholders in the following the tuple (Input, Targets, Learing Rate, Keep Probability)"
   ]
  },
  {
   "cell_type": "code",
   "execution_count": 98,
   "metadata": {
    "collapsed": false,
    "deletable": true,
    "editable": true
   },
   "outputs": [
    {
     "name": "stdout",
     "output_type": "stream",
     "text": [
      "Tests Passed\n"
     ]
    }
   ],
   "source": [
    "def model_inputs():\n",
    "    \"\"\"\n",
    "    Create TF Placeholders for input, targets, and learning rate.\n",
    "    :return: Tuple (input, targets, learning rate, keep probability)\n",
    "    \"\"\"\n",
    "    inputs =        tf.placeholder(tf.int32, [None, None], name='input') \n",
    "    targets =       tf.placeholder(tf.int32, [None, None])\n",
    "    learning_rate = tf.placeholder(tf.float32)\n",
    "    keep_prob =     tf.placeholder(tf.float32, name='keep_prob')\n",
    "    return inputs, targets, learning_rate, keep_prob\n",
    "\n",
    "\"\"\"\n",
    "DON'T MODIFY ANYTHING IN THIS CELL THAT IS BELOW THIS LINE\n",
    "\"\"\"\n",
    "tests.test_model_inputs(model_inputs)"
   ]
  },
  {
   "cell_type": "markdown",
   "metadata": {
    "deletable": true,
    "editable": true
   },
   "source": [
    "### Process Decoding Input\n",
    "Implement `process_decoding_input` using TensorFlow to remove the last word id from each batch in `target_data` and concat the GO ID to the beginning of each batch."
   ]
  },
  {
   "cell_type": "code",
   "execution_count": 99,
   "metadata": {
    "collapsed": false,
    "deletable": true,
    "editable": true
   },
   "outputs": [
    {
     "name": "stdout",
     "output_type": "stream",
     "text": [
      "Tests Passed\n"
     ]
    }
   ],
   "source": [
    "def process_decoding_input(target_data, target_vocab_to_int, batch_size):\n",
    "    \"\"\"\n",
    "    Preprocess target data for dencoding\n",
    "    :param target_data: Target Placehoder\n",
    "    :param target_vocab_to_int: Dictionary to go from the target words to an id\n",
    "    :param batch_size: Batch Size\n",
    "    :return: Preprocessed target data\n",
    "    \"\"\"\n",
    "    ending = tf.strided_slice(target_data, [0, 0], [batch_size, -1], [1, 1])\n",
    "    decoding_input = tf.concat([tf.fill([batch_size, 1], target_vocab_to_int['<GO>']), ending], 1)\n",
    "    return decoding_input\n",
    "\n",
    "\"\"\"\n",
    "DON'T MODIFY ANYTHING IN THIS CELL THAT IS BELOW THIS LINE\n",
    "\"\"\"\n",
    "tests.test_process_decoding_input(process_decoding_input)"
   ]
  },
  {
   "cell_type": "markdown",
   "metadata": {
    "deletable": true,
    "editable": true
   },
   "source": [
    "### Encoding\n",
    "Implement `encoding_layer()` to create a Encoder RNN layer using [`tf.nn.dynamic_rnn()`](https://www.tensorflow.org/api_docs/python/tf/nn/dynamic_rnn)."
   ]
  },
  {
   "cell_type": "code",
   "execution_count": 102,
   "metadata": {
    "collapsed": false,
    "deletable": true,
    "editable": true
   },
   "outputs": [
    {
     "name": "stdout",
     "output_type": "stream",
     "text": [
      "Tests Passed\n"
     ]
    }
   ],
   "source": [
    "def encoding_layer(rnn_inputs, rnn_size, num_layers, keep_prob):\n",
    "    \"\"\"\n",
    "    Create encoding layer\n",
    "    :param rnn_inputs: Inputs for the RNN\n",
    "    :param rnn_size: RNN Size\n",
    "    :param num_layers: Number of layers\n",
    "    :param keep_prob: Dropout keep probability\n",
    "    :return: RNN state\n",
    "    \"\"\"\n",
    "    # TODO: Implement Function\n",
    "    basic_cell = tf.contrib.rnn.BasicLSTMCell(rnn_size)\n",
    "    basic_cell_dropout = tf.contrib.rnn.DropoutWrapper(basic_cell, output_keep_prob=keep_prob)\n",
    "    enc_cell = tf.contrib.rnn.MultiRNNCell([basic_cell_dropout] * num_layers)\n",
    "    _, enc_state = tf.nn.dynamic_rnn(enc_cell, rnn_inputs, dtype=tf.float32)\n",
    "    return enc_state\n",
    "\n",
    "\"\"\"\n",
    "DON'T MODIFY ANYTHING IN THIS CELL THAT IS BELOW THIS LINE\n",
    "\"\"\"\n",
    "tests.test_encoding_layer(encoding_layer)"
   ]
  },
  {
   "cell_type": "markdown",
   "metadata": {
    "deletable": true,
    "editable": true
   },
   "source": [
    "### Decoding - Training\n",
    "Create training logits using [`tf.contrib.seq2seq.simple_decoder_fn_train()`](https://www.tensorflow.org/api_docs/python/tf/contrib/seq2seq/simple_decoder_fn_train) and [`tf.contrib.seq2seq.dynamic_rnn_decoder()`](https://www.tensorflow.org/api_docs/python/tf/contrib/seq2seq/dynamic_rnn_decoder).  Apply the `output_fn` to the [`tf.contrib.seq2seq.dynamic_rnn_decoder()`](https://www.tensorflow.org/api_docs/python/tf/contrib/seq2seq/dynamic_rnn_decoder) outputs."
   ]
  },
  {
   "cell_type": "code",
   "execution_count": 103,
   "metadata": {
    "collapsed": false,
    "deletable": true,
    "editable": true
   },
   "outputs": [
    {
     "name": "stdout",
     "output_type": "stream",
     "text": [
      "Tests Passed\n"
     ]
    }
   ],
   "source": [
    "def decoding_layer_train(encoder_state, dec_cell, dec_embed_input, sequence_length, decoding_scope,\n",
    "                         output_fn, keep_prob):\n",
    "    \"\"\"\n",
    "    Create a decoding layer for training\n",
    "    :param encoder_state: Encoder State\n",
    "    :param dec_cell: Decoder RNN Cell\n",
    "    :param dec_embed_input: Decoder embedded input\n",
    "    :param sequence_length: Sequence Length\n",
    "    :param decoding_scope: TenorFlow Variable Scope for decoding\n",
    "    :param output_fn: Function to apply the output layer\n",
    "    :param keep_prob: Dropout keep probability\n",
    "    :return: Train Logits\n",
    "    \"\"\"\n",
    "    # TODO: Implement Function\n",
    "    train_decoder_fn = tf.contrib.seq2seq.simple_decoder_fn_train(encoder_state)\n",
    "    train_pred, _, _ = tf.contrib.seq2seq.dynamic_rnn_decoder(\n",
    "        dec_cell, train_decoder_fn, dec_embed_input, sequence_length, scope=decoding_scope)\n",
    "    \n",
    "    # Apply output function\n",
    "    train_logits =  output_fn(train_pred)\n",
    "    return train_logits\n",
    "\n",
    "\n",
    "\"\"\"\n",
    "DON'T MODIFY ANYTHING IN THIS CELL THAT IS BELOW THIS LINE\n",
    "\"\"\"\n",
    "tests.test_decoding_layer_train(decoding_layer_train)"
   ]
  },
  {
   "cell_type": "markdown",
   "metadata": {
    "deletable": true,
    "editable": true
   },
   "source": [
    "### Decoding - Inference\n",
    "Create inference logits using [`tf.contrib.seq2seq.simple_decoder_fn_inference()`](https://www.tensorflow.org/api_docs/python/tf/contrib/seq2seq/simple_decoder_fn_inference) and [`tf.contrib.seq2seq.dynamic_rnn_decoder()`](https://www.tensorflow.org/api_docs/python/tf/contrib/seq2seq/dynamic_rnn_decoder). "
   ]
  },
  {
   "cell_type": "code",
   "execution_count": 104,
   "metadata": {
    "collapsed": false,
    "deletable": true,
    "editable": true
   },
   "outputs": [
    {
     "name": "stdout",
     "output_type": "stream",
     "text": [
      "Tests Passed\n"
     ]
    }
   ],
   "source": [
    "def decoding_layer_infer(encoder_state, dec_cell, dec_embeddings, start_of_sequence_id, end_of_sequence_id,\n",
    "                         maximum_length, vocab_size, decoding_scope, output_fn, keep_prob):\n",
    "    \"\"\"\n",
    "    Create a decoding layer for inference\n",
    "    :param encoder_state: Encoder state\n",
    "    :param dec_cell: Decoder RNN Cell\n",
    "    :param dec_embeddings: Decoder embeddings\n",
    "    :param start_of_sequence_id: GO ID\n",
    "    :param end_of_sequence_id: EOS Id\n",
    "    :param maximum_length: Maximum length of \n",
    "    :param vocab_size: Size of vocabulary\n",
    "    :param decoding_scope: TensorFlow Variable Scope for decoding\n",
    "    :param output_fn: Function to apply the output layer\n",
    "    :param keep_prob: Dropout keep probability\n",
    "    :return: Inference Logits\n",
    "    \"\"\"\n",
    "    infer_decoder_fn = tf.contrib.seq2seq.simple_decoder_fn_inference(\n",
    "        output_fn, encoder_state, dec_embeddings, start_of_sequence_id, end_of_sequence_id, \n",
    "        maximum_length, vocab_size)\n",
    "    inference_logits, _, _ = tf.contrib.seq2seq.dynamic_rnn_decoder(dec_cell, infer_decoder_fn, scope=decoding_scope)\n",
    "    return inference_logits\n",
    "\n",
    "\n",
    "\"\"\"\n",
    "DON'T MODIFY ANYTHING IN THIS CELL THAT IS BELOW THIS LINE\n",
    "\"\"\"\n",
    "tests.test_decoding_layer_infer(decoding_layer_infer)"
   ]
  },
  {
   "cell_type": "markdown",
   "metadata": {
    "deletable": true,
    "editable": true
   },
   "source": [
    "### Build the Decoding Layer\n",
    "Implement `decoding_layer()` to create a Decoder RNN layer.\n",
    "\n",
    "- Create RNN cell for decoding using `rnn_size` and `num_layers`.\n",
    "- Create the output function using [`lambda`](https://docs.python.org/3/tutorial/controlflow.html#lambda-expressions) to transform it's input, logits, to class logits.\n",
    "- Use the your `decoding_layer_train(encoder_state, dec_cell, dec_embed_input, sequence_length, decoding_scope, output_fn, keep_prob)` function to get the training logits.\n",
    "- Use your `decoding_layer_infer(encoder_state, dec_cell, dec_embeddings, start_of_sequence_id, end_of_sequence_id, maximum_length, vocab_size, decoding_scope, output_fn, keep_prob)` function to get the inference logits.\n",
    "\n",
    "Note: You'll need to use [tf.variable_scope](https://www.tensorflow.org/api_docs/python/tf/variable_scope) to share variables between training and inference."
   ]
  },
  {
   "cell_type": "code",
   "execution_count": 109,
   "metadata": {
    "collapsed": false,
    "deletable": true,
    "editable": true
   },
   "outputs": [
    {
     "name": "stdout",
     "output_type": "stream",
     "text": [
      "Tests Passed\n"
     ]
    }
   ],
   "source": [
    "def decoding_layer(dec_embed_input, dec_embeddings, encoder_state, vocab_size, sequence_length, rnn_size,\n",
    "                   num_layers, target_vocab_to_int, keep_prob):\n",
    "    \"\"\"\n",
    "    Create decoding layer\n",
    "    :param dec_embed_input: Decoder embedded input\n",
    "    :param dec_embeddings: Decoder embeddings\n",
    "    :param encoder_state: The encoded state\n",
    "    :param vocab_size: Size of vocabulary\n",
    "    :param sequence_length: Sequence Length\n",
    "    :param rnn_size: RNN Size\n",
    "    :param num_layers: Number of layers\n",
    "    :param target_vocab_to_int: Dictionary to go from the target words to an id\n",
    "    :param keep_prob: Dropout keep probability\n",
    "    :return: Tuple of (Training Logits, Inference Logits)\n",
    "    \"\"\"\n",
    "    # rnn cell\n",
    "    basic_cell = tf.contrib.rnn.BasicLSTMCell(rnn_size)\n",
    "    basic_cell_dropout = tf.contrib.rnn.DropoutWrapper(basic_cell, output_keep_prob=keep_prob)\n",
    "    dec_cell = tf.contrib.rnn.MultiRNNCell([basic_cell_dropout] * num_layers)\n",
    "    start_of_sequence_id = target_vocab_to_int['<GO>']\n",
    "    end_of_sequence_id = target_vocab_to_int['<EOS>']\n",
    "    maximum_length = sequence_length - 1\n",
    "    # add decoding scope\n",
    "    with tf.variable_scope(\"decoding\") as decoding_scope:\n",
    "        output_fn = lambda x: tf.contrib.layers.fully_connected(x, vocab_size, None, scope=decoding_scope)\n",
    "        # get train logits\n",
    "        train_logits = decoding_layer_train(encoder_state, dec_cell, dec_embed_input, sequence_length, \\\n",
    "                                            decoding_scope, output_fn, keep_prob)\n",
    "        decoding_scope.reuse_variables()\n",
    "        # get inference logits\n",
    "        inference_logits = decoding_layer_infer(encoder_state, dec_cell, dec_embeddings, start_of_sequence_id,\\\n",
    "                                                end_of_sequence_id, maximum_length, vocab_size, decoding_scope,\\\n",
    "                                                output_fn, keep_prob)\n",
    "\n",
    "    return train_logits, inference_logits\n",
    "\n",
    "\n",
    "\"\"\"\n",
    "DON'T MODIFY ANYTHING IN THIS CELL THAT IS BELOW THIS LINE\n",
    "\"\"\"\n",
    "tests.test_decoding_layer(decoding_layer)"
   ]
  },
  {
   "cell_type": "markdown",
   "metadata": {
    "deletable": true,
    "editable": true
   },
   "source": [
    "### Build the Neural Network\n",
    "Apply the functions you implemented above to:\n",
    "\n",
    "- Apply embedding to the input data for the encoder.\n",
    "- Encode the input using your `encoding_layer(rnn_inputs, rnn_size, num_layers, keep_prob)`.\n",
    "- Process target data using your `process_encoding_input(target_data, target_vocab_to_int, batch_size)` function.\n",
    "- Apply embedding to the target data for the decoder.\n",
    "- Decode the encoded input using your `decoding_layer(dec_embed_input, dec_embeddings, encoder_state, vocab_size, sequence_length, rnn_size, num_layers, target_vocab_to_int, keep_prob)`."
   ]
  },
  {
   "cell_type": "code",
   "execution_count": 114,
   "metadata": {
    "collapsed": false,
    "deletable": true,
    "editable": true
   },
   "outputs": [
    {
     "name": "stdout",
     "output_type": "stream",
     "text": [
      "Tests Passed\n"
     ]
    }
   ],
   "source": [
    "def seq2seq_model(input_data, target_data, keep_prob, batch_size, sequence_length, source_vocab_size, target_vocab_size,\n",
    "                  enc_embedding_size, dec_embedding_size, rnn_size, num_layers, target_vocab_to_int):\n",
    "    \"\"\"\n",
    "    Build the Sequence-to-Sequence part of the neural network\n",
    "    :param input_data: Input placeholder\n",
    "    :param target_data: Target placeholder\n",
    "    :param keep_prob: Dropout keep probability placeholder\n",
    "    :param batch_size: Batch Size\n",
    "    :param sequence_length: Sequence Length\n",
    "    :param source_vocab_size: Source vocabulary size\n",
    "    :param target_vocab_size: Target vocabulary size\n",
    "    :param enc_embedding_size: Decoder embedding size\n",
    "    :param dec_embedding_size: Encoder embedding size\n",
    "    :param rnn_size: RNN Size\n",
    "    :param num_layers: Number of layers\n",
    "    :param target_vocab_to_int: Dictionary to go from the target words to an id\n",
    "    :return: Tuple of (Training Logits, Inference Logits)\n",
    "    \"\"\"\n",
    "    # apply embedding to input\n",
    "    enc_embed_input = tf.contrib.layers.embed_sequence(input_data, source_vocab_size, enc_embedding_size)\n",
    "    # apply encoding layer\n",
    "    encoder_state = encoding_layer(enc_embed_input, rnn_size, num_layers, keep_prob)\n",
    "    # process target data\n",
    "    target_data = process_decoding_input(target_data, target_vocab_to_int, batch_size)\n",
    "    # apply embedding to target data for decoder\n",
    "    dec_embeddings = tf.Variable(tf.random_uniform([target_vocab_size, dec_embedding_size]))\n",
    "    dec_embed_input = tf.nn.embedding_lookup(dec_embeddings, target_data)\n",
    "    # decode embedded input\n",
    "    train_logits, infer_logits = decoding_layer(dec_embed_input, dec_embeddings, encoder_state,\\\n",
    "                                                target_vocab_size, sequence_length, rnn_size, num_layers,\\\n",
    "                                                target_vocab_to_int, keep_prob)\n",
    "    return train_logits, infer_logits\n",
    "\n",
    "\"\"\"\n",
    "DON'T MODIFY ANYTHING IN THIS CELL THAT IS BELOW THIS LINE\n",
    "\"\"\"\n",
    "tests.test_seq2seq_model(seq2seq_model)"
   ]
  },
  {
   "cell_type": "markdown",
   "metadata": {
    "deletable": true,
    "editable": true
   },
   "source": [
    "## Neural Network Training\n",
    "### Hyperparameters\n",
    "Tune the following parameters:\n",
    "\n",
    "- Set `epochs` to the number of epochs.\n",
    "- Set `batch_size` to the batch size.\n",
    "- Set `rnn_size` to the size of the RNNs.\n",
    "- Set `num_layers` to the number of layers.\n",
    "- Set `encoding_embedding_size` to the size of the embedding for the encoder.\n",
    "- Set `decoding_embedding_size` to the size of the embedding for the decoder.\n",
    "- Set `learning_rate` to the learning rate.\n",
    "- Set `keep_probability` to the Dropout keep probability"
   ]
  },
  {
   "cell_type": "code",
   "execution_count": 126,
   "metadata": {
    "collapsed": true,
    "deletable": true,
    "editable": true
   },
   "outputs": [],
   "source": [
    "# Number of Epochs\n",
    "epochs = 25\n",
    "# Batch Size\n",
    "batch_size = 256\n",
    "# RNN Size\n",
    "rnn_size = 128\n",
    "# Number of Layers\n",
    "num_layers = 2\n",
    "# Embedding Size\n",
    "encoding_embedding_size = 15\n",
    "decoding_embedding_size = 15\n",
    "# Learning Rate\n",
    "learning_rate = 0.001\n",
    "# Dropout Keep Probability\n",
    "keep_probability = 0.8"
   ]
  },
  {
   "cell_type": "markdown",
   "metadata": {
    "deletable": true,
    "editable": true
   },
   "source": [
    "### Build the Graph\n",
    "Build the graph using the neural network you implemented."
   ]
  },
  {
   "cell_type": "code",
   "execution_count": null,
   "metadata": {
    "collapsed": false,
    "deletable": true,
    "editable": true
   },
   "outputs": [],
   "source": [
    "\"\"\"\n",
    "DON'T MODIFY ANYTHING IN THIS CELL\n",
    "\"\"\"\n",
    "save_path = 'checkpoints/dev'\n",
    "(source_int_text, target_int_text), (source_vocab_to_int, target_vocab_to_int), _ = helper.load_preprocess()\n",
    "max_target_sentence_length = max([len(sentence) for sentence in source_int_text])\n",
    "\n",
    "train_graph = tf.Graph()\n",
    "with train_graph.as_default():\n",
    "    input_data, targets, lr, keep_prob = model_inputs()\n",
    "    sequence_length = tf.placeholder_with_default(max_target_sentence_length, None, name='sequence_length')\n",
    "    input_shape = tf.shape(input_data)\n",
    "    \n",
    "    train_logits, inference_logits = seq2seq_model(\n",
    "        tf.reverse(input_data, [-1]), targets, keep_prob, batch_size, sequence_length, len(source_vocab_to_int), len(target_vocab_to_int),\n",
    "        encoding_embedding_size, decoding_embedding_size, rnn_size, num_layers, target_vocab_to_int)\n",
    "\n",
    "    tf.identity(inference_logits, 'logits')\n",
    "    with tf.name_scope(\"optimization\"):\n",
    "        # Loss function\n",
    "        cost = tf.contrib.seq2seq.sequence_loss(\n",
    "            train_logits,\n",
    "            targets,\n",
    "            tf.ones([input_shape[0], sequence_length]))\n",
    "\n",
    "        # Optimizer\n",
    "        optimizer = tf.train.AdamOptimizer(lr)\n",
    "\n",
    "        # Gradient Clipping\n",
    "        gradients = optimizer.compute_gradients(cost)\n",
    "        capped_gradients = [(tf.clip_by_value(grad, -1., 1.), var) for grad, var in gradients if grad is not None]\n",
    "        train_op = optimizer.apply_gradients(capped_gradients)"
   ]
  },
  {
   "cell_type": "markdown",
   "metadata": {
    "deletable": true,
    "editable": true
   },
   "source": [
    "### Train\n",
    "Train the neural network on the preprocessed data. If you have a hard time getting a good loss, check the forms to see if anyone is having the same problem."
   ]
  },
  {
   "cell_type": "code",
   "execution_count": null,
   "metadata": {
    "collapsed": false,
    "deletable": true,
    "editable": true,
    "scrolled": true
   },
   "outputs": [
    {
     "name": "stdout",
     "output_type": "stream",
     "text": [
      "Epoch   0 Batch    0/538 - Train Accuracy:  0.234, Validation Accuracy:  0.316, Loss:  5.875\n",
      "Epoch   0 Batch    1/538 - Train Accuracy:  0.231, Validation Accuracy:  0.316, Loss:  5.820\n",
      "Epoch   0 Batch    2/538 - Train Accuracy:  0.252, Validation Accuracy:  0.316, Loss:  5.748\n",
      "Epoch   0 Batch    3/538 - Train Accuracy:  0.229, Validation Accuracy:  0.316, Loss:  5.667\n",
      "Epoch   0 Batch    4/538 - Train Accuracy:  0.237, Validation Accuracy:  0.316, Loss:  5.528\n",
      "Epoch   0 Batch    5/538 - Train Accuracy:  0.269, Validation Accuracy:  0.320, Loss:  5.292\n",
      "Epoch   0 Batch    6/538 - Train Accuracy:  0.278, Validation Accuracy:  0.326, Loss:  5.057\n",
      "Epoch   0 Batch    7/538 - Train Accuracy:  0.256, Validation Accuracy:  0.328, Loss:  4.918\n",
      "Epoch   0 Batch    8/538 - Train Accuracy:  0.256, Validation Accuracy:  0.328, Loss:  4.743\n",
      "Epoch   0 Batch    9/538 - Train Accuracy:  0.254, Validation Accuracy:  0.328, Loss:  4.585\n",
      "Epoch   0 Batch   10/538 - Train Accuracy:  0.233, Validation Accuracy:  0.328, Loss:  4.554\n",
      "Epoch   0 Batch   11/538 - Train Accuracy:  0.266, Validation Accuracy:  0.342, Loss:  4.390\n",
      "Epoch   0 Batch   12/538 - Train Accuracy:  0.263, Validation Accuracy:  0.345, Loss:  4.339\n",
      "Epoch   0 Batch   13/538 - Train Accuracy:  0.316, Validation Accuracy:  0.346, Loss:  3.980\n",
      "Epoch   0 Batch   14/538 - Train Accuracy:  0.273, Validation Accuracy:  0.346, Loss:  4.108\n",
      "Epoch   0 Batch   15/538 - Train Accuracy:  0.319, Validation Accuracy:  0.346, Loss:  3.818\n",
      "Epoch   0 Batch   16/538 - Train Accuracy:  0.302, Validation Accuracy:  0.347, Loss:  3.784\n",
      "Epoch   0 Batch   17/538 - Train Accuracy:  0.285, Validation Accuracy:  0.347, Loss:  3.828\n",
      "Epoch   0 Batch   18/538 - Train Accuracy:  0.272, Validation Accuracy:  0.347, Loss:  3.803\n",
      "Epoch   0 Batch   19/538 - Train Accuracy:  0.272, Validation Accuracy:  0.347, Loss:  3.745\n",
      "Epoch   0 Batch   20/538 - Train Accuracy:  0.299, Validation Accuracy:  0.347, Loss:  3.562\n",
      "Epoch   0 Batch   21/538 - Train Accuracy:  0.225, Validation Accuracy:  0.347, Loss:  3.772\n",
      "Epoch   0 Batch   22/538 - Train Accuracy:  0.279, Validation Accuracy:  0.347, Loss:  3.559\n",
      "Epoch   0 Batch   23/538 - Train Accuracy:  0.284, Validation Accuracy:  0.347, Loss:  3.497\n",
      "Epoch   0 Batch   24/538 - Train Accuracy:  0.297, Validation Accuracy:  0.347, Loss:  3.436\n",
      "Epoch   0 Batch   25/538 - Train Accuracy:  0.282, Validation Accuracy:  0.347, Loss:  3.486\n",
      "Epoch   0 Batch   26/538 - Train Accuracy:  0.278, Validation Accuracy:  0.347, Loss:  3.466\n",
      "Epoch   0 Batch   27/538 - Train Accuracy:  0.280, Validation Accuracy:  0.347, Loss:  3.420\n",
      "Epoch   0 Batch   28/538 - Train Accuracy:  0.343, Validation Accuracy:  0.349, Loss:  3.130\n",
      "Epoch   0 Batch   29/538 - Train Accuracy:  0.299, Validation Accuracy:  0.347, Loss:  3.290\n",
      "Epoch   0 Batch   30/538 - Train Accuracy:  0.273, Validation Accuracy:  0.347, Loss:  3.409\n",
      "Epoch   0 Batch   31/538 - Train Accuracy:  0.328, Validation Accuracy:  0.364, Loss:  3.233\n",
      "Epoch   0 Batch   32/538 - Train Accuracy:  0.316, Validation Accuracy:  0.371, Loss:  3.283\n",
      "Epoch   0 Batch   33/538 - Train Accuracy:  0.334, Validation Accuracy:  0.371, Loss:  3.223\n",
      "Epoch   0 Batch   34/538 - Train Accuracy:  0.313, Validation Accuracy:  0.374, Loss:  3.319\n",
      "Epoch   0 Batch   35/538 - Train Accuracy:  0.298, Validation Accuracy:  0.374, Loss:  3.303\n",
      "Epoch   0 Batch   36/538 - Train Accuracy:  0.334, Validation Accuracy:  0.374, Loss:  3.183\n",
      "Epoch   0 Batch   37/538 - Train Accuracy:  0.309, Validation Accuracy:  0.374, Loss:  3.266\n",
      "Epoch   0 Batch   38/538 - Train Accuracy:  0.297, Validation Accuracy:  0.374, Loss:  3.294\n",
      "Epoch   0 Batch   39/538 - Train Accuracy:  0.307, Validation Accuracy:  0.374, Loss:  3.271\n",
      "Epoch   0 Batch   40/538 - Train Accuracy:  0.370, Validation Accuracy:  0.377, Loss:  2.990\n",
      "Epoch   0 Batch   41/538 - Train Accuracy:  0.309, Validation Accuracy:  0.377, Loss:  3.218\n",
      "Epoch   0 Batch   42/538 - Train Accuracy:  0.310, Validation Accuracy:  0.377, Loss:  3.212\n",
      "Epoch   0 Batch   43/538 - Train Accuracy:  0.320, Validation Accuracy:  0.377, Loss:  3.225\n",
      "Epoch   0 Batch   44/538 - Train Accuracy:  0.303, Validation Accuracy:  0.375, Loss:  3.224\n",
      "Epoch   0 Batch   45/538 - Train Accuracy:  0.349, Validation Accuracy:  0.377, Loss:  3.075\n",
      "Epoch   0 Batch   46/538 - Train Accuracy:  0.315, Validation Accuracy:  0.377, Loss:  3.175\n",
      "Epoch   0 Batch   47/538 - Train Accuracy:  0.350, Validation Accuracy:  0.377, Loss:  3.049\n",
      "Epoch   0 Batch   48/538 - Train Accuracy:  0.361, Validation Accuracy:  0.379, Loss:  3.016\n",
      "Epoch   0 Batch   49/538 - Train Accuracy:  0.314, Validation Accuracy:  0.390, Loss:  3.189\n",
      "Epoch   0 Batch   50/538 - Train Accuracy:  0.338, Validation Accuracy:  0.395, Loss:  3.086\n",
      "Epoch   0 Batch   51/538 - Train Accuracy:  0.284, Validation Accuracy:  0.400, Loss:  3.284\n",
      "Epoch   0 Batch   52/538 - Train Accuracy:  0.352, Validation Accuracy:  0.398, Loss:  3.089\n",
      "Epoch   0 Batch   53/538 - Train Accuracy:  0.391, Validation Accuracy:  0.399, Loss:  2.861\n",
      "Epoch   0 Batch   54/538 - Train Accuracy:  0.346, Validation Accuracy:  0.401, Loss:  3.051\n",
      "Epoch   0 Batch   55/538 - Train Accuracy:  0.339, Validation Accuracy:  0.402, Loss:  3.089\n",
      "Epoch   0 Batch   56/538 - Train Accuracy:  0.370, Validation Accuracy:  0.404, Loss:  2.957\n",
      "Epoch   0 Batch   57/538 - Train Accuracy:  0.340, Validation Accuracy:  0.411, Loss:  3.097\n",
      "Epoch   0 Batch   58/538 - Train Accuracy:  0.330, Validation Accuracy:  0.411, Loss:  3.100\n",
      "Epoch   0 Batch   59/538 - Train Accuracy:  0.340, Validation Accuracy:  0.409, Loss:  3.054\n",
      "Epoch   0 Batch   60/538 - Train Accuracy:  0.345, Validation Accuracy:  0.409, Loss:  3.018\n",
      "Epoch   0 Batch   61/538 - Train Accuracy:  0.348, Validation Accuracy:  0.409, Loss:  3.024\n",
      "Epoch   0 Batch   62/538 - Train Accuracy:  0.367, Validation Accuracy:  0.414, Loss:  2.921\n",
      "Epoch   0 Batch   63/538 - Train Accuracy:  0.378, Validation Accuracy:  0.407, Loss:  2.892\n",
      "Epoch   0 Batch   64/538 - Train Accuracy:  0.378, Validation Accuracy:  0.406, Loss:  2.881\n",
      "Epoch   0 Batch   65/538 - Train Accuracy:  0.334, Validation Accuracy:  0.407, Loss:  3.070\n",
      "Epoch   0 Batch   66/538 - Train Accuracy:  0.373, Validation Accuracy:  0.412, Loss:  2.882\n",
      "Epoch   0 Batch   67/538 - Train Accuracy:  0.358, Validation Accuracy:  0.415, Loss:  2.947\n",
      "Epoch   0 Batch   68/538 - Train Accuracy:  0.373, Validation Accuracy:  0.412, Loss:  2.812\n",
      "Epoch   0 Batch   69/538 - Train Accuracy:  0.350, Validation Accuracy:  0.411, Loss:  2.965\n",
      "Epoch   0 Batch   70/538 - Train Accuracy:  0.390, Validation Accuracy:  0.421, Loss:  2.838\n",
      "Epoch   0 Batch   71/538 - Train Accuracy:  0.366, Validation Accuracy:  0.423, Loss:  2.942\n",
      "Epoch   0 Batch   72/538 - Train Accuracy:  0.389, Validation Accuracy:  0.421, Loss:  2.819\n",
      "Epoch   0 Batch   73/538 - Train Accuracy:  0.354, Validation Accuracy:  0.420, Loss:  2.954\n",
      "Epoch   0 Batch   74/538 - Train Accuracy:  0.391, Validation Accuracy:  0.421, Loss:  2.805\n",
      "Epoch   0 Batch   75/538 - Train Accuracy:  0.400, Validation Accuracy:  0.421, Loss:  2.776\n",
      "Epoch   0 Batch   76/538 - Train Accuracy:  0.359, Validation Accuracy:  0.419, Loss:  2.946\n",
      "Epoch   0 Batch   77/538 - Train Accuracy:  0.354, Validation Accuracy:  0.420, Loss:  2.920\n",
      "Epoch   0 Batch   78/538 - Train Accuracy:  0.392, Validation Accuracy:  0.421, Loss:  2.795\n",
      "Epoch   0 Batch   79/538 - Train Accuracy:  0.390, Validation Accuracy:  0.422, Loss:  2.758\n",
      "Epoch   0 Batch   80/538 - Train Accuracy:  0.367, Validation Accuracy:  0.426, Loss:  2.897\n",
      "Epoch   0 Batch   81/538 - Train Accuracy:  0.362, Validation Accuracy:  0.426, Loss:  2.901\n",
      "Epoch   0 Batch   82/538 - Train Accuracy:  0.370, Validation Accuracy:  0.427, Loss:  2.856\n",
      "Epoch   0 Batch   83/538 - Train Accuracy:  0.372, Validation Accuracy:  0.433, Loss:  2.877\n",
      "Epoch   0 Batch   84/538 - Train Accuracy:  0.402, Validation Accuracy:  0.432, Loss:  2.768\n",
      "Epoch   0 Batch   85/538 - Train Accuracy:  0.424, Validation Accuracy:  0.433, Loss:  2.647\n",
      "Epoch   0 Batch   86/538 - Train Accuracy:  0.370, Validation Accuracy:  0.425, Loss:  2.863\n",
      "Epoch   0 Batch   87/538 - Train Accuracy:  0.370, Validation Accuracy:  0.430, Loss:  2.845\n",
      "Epoch   0 Batch   88/538 - Train Accuracy:  0.387, Validation Accuracy:  0.435, Loss:  2.830\n",
      "Epoch   0 Batch   89/538 - Train Accuracy:  0.379, Validation Accuracy:  0.431, Loss:  2.816\n",
      "Epoch   0 Batch   90/538 - Train Accuracy:  0.399, Validation Accuracy:  0.430, Loss:  2.733\n",
      "Epoch   0 Batch   91/538 - Train Accuracy:  0.368, Validation Accuracy:  0.434, Loss:  2.847\n",
      "Epoch   0 Batch   92/538 - Train Accuracy:  0.389, Validation Accuracy:  0.436, Loss:  2.798\n",
      "Epoch   0 Batch   93/538 - Train Accuracy:  0.371, Validation Accuracy:  0.437, Loss:  2.826\n",
      "Epoch   0 Batch   94/538 - Train Accuracy:  0.381, Validation Accuracy:  0.441, Loss:  2.857\n",
      "Epoch   0 Batch   95/538 - Train Accuracy:  0.441, Validation Accuracy:  0.443, Loss:  2.578\n",
      "Epoch   0 Batch   96/538 - Train Accuracy:  0.418, Validation Accuracy:  0.441, Loss:  2.646\n",
      "Epoch   0 Batch   97/538 - Train Accuracy:  0.379, Validation Accuracy:  0.444, Loss:  2.790\n",
      "Epoch   0 Batch   98/538 - Train Accuracy:  0.425, Validation Accuracy:  0.443, Loss:  2.615\n",
      "Epoch   0 Batch   99/538 - Train Accuracy:  0.387, Validation Accuracy:  0.444, Loss:  2.790\n",
      "Epoch   0 Batch  100/538 - Train Accuracy:  0.398, Validation Accuracy:  0.449, Loss:  2.744\n",
      "Epoch   0 Batch  101/538 - Train Accuracy:  0.398, Validation Accuracy:  0.450, Loss:  2.751\n",
      "Epoch   0 Batch  102/538 - Train Accuracy:  0.404, Validation Accuracy:  0.455, Loss:  2.778\n",
      "Epoch   0 Batch  103/538 - Train Accuracy:  0.414, Validation Accuracy:  0.455, Loss:  2.681\n",
      "Epoch   0 Batch  104/538 - Train Accuracy:  0.420, Validation Accuracy:  0.452, Loss:  2.641\n",
      "Epoch   0 Batch  105/538 - Train Accuracy:  0.429, Validation Accuracy:  0.456, Loss:  2.617\n",
      "Epoch   0 Batch  106/538 - Train Accuracy:  0.405, Validation Accuracy:  0.462, Loss:  2.727\n",
      "Epoch   0 Batch  107/538 - Train Accuracy:  0.393, Validation Accuracy:  0.466, Loss:  2.774\n",
      "Epoch   0 Batch  108/538 - Train Accuracy:  0.421, Validation Accuracy:  0.465, Loss:  2.682\n",
      "Epoch   0 Batch  109/538 - Train Accuracy:  0.414, Validation Accuracy:  0.466, Loss:  2.711\n",
      "Epoch   0 Batch  110/538 - Train Accuracy:  0.412, Validation Accuracy:  0.470, Loss:  2.727\n",
      "Epoch   0 Batch  111/538 - Train Accuracy:  0.439, Validation Accuracy:  0.471, Loss:  2.580\n",
      "Epoch   0 Batch  112/538 - Train Accuracy:  0.408, Validation Accuracy:  0.469, Loss:  2.711\n",
      "Epoch   0 Batch  113/538 - Train Accuracy:  0.408, Validation Accuracy:  0.470, Loss:  2.714\n",
      "Epoch   0 Batch  114/538 - Train Accuracy:  0.446, Validation Accuracy:  0.469, Loss:  2.546\n",
      "Epoch   0 Batch  115/538 - Train Accuracy:  0.415, Validation Accuracy:  0.469, Loss:  2.682\n",
      "Epoch   0 Batch  116/538 - Train Accuracy:  0.440, Validation Accuracy:  0.475, Loss:  2.584\n",
      "Epoch   0 Batch  117/538 - Train Accuracy:  0.449, Validation Accuracy:  0.477, Loss:  2.544\n",
      "Epoch   0 Batch  118/538 - Train Accuracy:  0.444, Validation Accuracy:  0.477, Loss:  2.554\n",
      "Epoch   0 Batch  119/538 - Train Accuracy:  0.449, Validation Accuracy:  0.480, Loss:  2.527\n",
      "Epoch   0 Batch  120/538 - Train Accuracy:  0.417, Validation Accuracy:  0.477, Loss:  2.644\n",
      "Epoch   0 Batch  121/538 - Train Accuracy:  0.449, Validation Accuracy:  0.477, Loss:  2.482\n",
      "Epoch   0 Batch  122/538 - Train Accuracy:  0.435, Validation Accuracy:  0.482, Loss:  2.535\n",
      "Epoch   0 Batch  123/538 - Train Accuracy:  0.460, Validation Accuracy:  0.479, Loss:  2.474\n",
      "Epoch   0 Batch  124/538 - Train Accuracy:  0.463, Validation Accuracy:  0.475, Loss:  2.419\n",
      "Epoch   0 Batch  125/538 - Train Accuracy:  0.441, Validation Accuracy:  0.478, Loss:  2.521\n",
      "Epoch   0 Batch  126/538 - Train Accuracy:  0.473, Validation Accuracy:  0.483, Loss:  2.408\n",
      "Epoch   0 Batch  127/538 - Train Accuracy:  0.421, Validation Accuracy:  0.478, Loss:  2.617\n",
      "Epoch   0 Batch  128/538 - Train Accuracy:  0.445, Validation Accuracy:  0.478, Loss:  2.478\n",
      "Epoch   0 Batch  129/538 - Train Accuracy:  0.448, Validation Accuracy:  0.485, Loss:  2.476\n",
      "Epoch   0 Batch  130/538 - Train Accuracy:  0.445, Validation Accuracy:  0.474, Loss:  2.496\n",
      "Epoch   0 Batch  131/538 - Train Accuracy:  0.416, Validation Accuracy:  0.477, Loss:  2.603\n",
      "Epoch   0 Batch  132/538 - Train Accuracy:  0.452, Validation Accuracy:  0.483, Loss:  2.457\n",
      "Epoch   0 Batch  133/538 - Train Accuracy:  0.458, Validation Accuracy:  0.472, Loss:  2.390\n",
      "Epoch   0 Batch  134/538 - Train Accuracy:  0.417, Validation Accuracy:  0.486, Loss:  2.641\n",
      "Epoch   0 Batch  135/538 - Train Accuracy:  0.439, Validation Accuracy:  0.478, Loss:  2.458\n",
      "Epoch   0 Batch  136/538 - Train Accuracy:  0.441, Validation Accuracy:  0.485, Loss:  2.480\n",
      "Epoch   0 Batch  137/538 - Train Accuracy:  0.444, Validation Accuracy:  0.473, Loss:  2.438\n",
      "Epoch   0 Batch  138/538 - Train Accuracy:  0.443, Validation Accuracy:  0.479, Loss:  2.473\n",
      "Epoch   0 Batch  139/538 - Train Accuracy:  0.407, Validation Accuracy:  0.478, Loss:  2.609\n",
      "Epoch   0 Batch  140/538 - Train Accuracy:  0.426, Validation Accuracy:  0.484, Loss:  2.592\n",
      "Epoch   0 Batch  141/538 - Train Accuracy:  0.419, Validation Accuracy:  0.474, Loss:  2.571\n",
      "Epoch   0 Batch  142/538 - Train Accuracy:  0.465, Validation Accuracy:  0.490, Loss:  2.403\n",
      "Epoch   0 Batch  143/538 - Train Accuracy:  0.410, Validation Accuracy:  0.476, Loss:  2.557\n",
      "Epoch   0 Batch  144/538 - Train Accuracy:  0.436, Validation Accuracy:  0.486, Loss:  2.519\n",
      "Epoch   0 Batch  145/538 - Train Accuracy:  0.447, Validation Accuracy:  0.479, Loss:  2.437\n",
      "Epoch   0 Batch  146/538 - Train Accuracy:  0.458, Validation Accuracy:  0.474, Loss:  2.347\n",
      "Epoch   0 Batch  147/538 - Train Accuracy:  0.466, Validation Accuracy:  0.489, Loss:  2.399\n",
      "Epoch   0 Batch  148/538 - Train Accuracy:  0.410, Validation Accuracy:  0.479, Loss:  2.543\n",
      "Epoch   0 Batch  149/538 - Train Accuracy:  0.436, Validation Accuracy:  0.488, Loss:  2.483\n",
      "Epoch   0 Batch  150/538 - Train Accuracy:  0.429, Validation Accuracy:  0.474, Loss:  2.473\n",
      "Epoch   0 Batch  151/538 - Train Accuracy:  0.453, Validation Accuracy:  0.484, Loss:  2.376\n",
      "Epoch   0 Batch  152/538 - Train Accuracy:  0.453, Validation Accuracy:  0.489, Loss:  2.381\n",
      "Epoch   0 Batch  153/538 - Train Accuracy:  0.436, Validation Accuracy:  0.488, Loss:  2.469\n",
      "Epoch   0 Batch  154/538 - Train Accuracy:  0.448, Validation Accuracy:  0.483, Loss:  2.401\n",
      "Epoch   0 Batch  155/538 - Train Accuracy:  0.466, Validation Accuracy:  0.485, Loss:  2.366\n",
      "Epoch   0 Batch  156/538 - Train Accuracy:  0.435, Validation Accuracy:  0.490, Loss:  2.467\n",
      "Epoch   0 Batch  157/538 - Train Accuracy:  0.445, Validation Accuracy:  0.488, Loss:  2.386\n",
      "Epoch   0 Batch  158/538 - Train Accuracy:  0.434, Validation Accuracy:  0.485, Loss:  2.498\n",
      "Epoch   0 Batch  159/538 - Train Accuracy:  0.437, Validation Accuracy:  0.492, Loss:  2.475\n",
      "Epoch   0 Batch  160/538 - Train Accuracy:  0.454, Validation Accuracy:  0.496, Loss:  2.351\n",
      "Epoch   0 Batch  161/538 - Train Accuracy:  0.444, Validation Accuracy:  0.495, Loss:  2.405\n",
      "Epoch   0 Batch  162/538 - Train Accuracy:  0.472, Validation Accuracy:  0.497, Loss:  2.294\n",
      "Epoch   0 Batch  163/538 - Train Accuracy:  0.462, Validation Accuracy:  0.493, Loss:  2.365\n",
      "Epoch   0 Batch  164/538 - Train Accuracy:  0.440, Validation Accuracy:  0.495, Loss:  2.447\n",
      "Epoch   0 Batch  165/538 - Train Accuracy:  0.474, Validation Accuracy:  0.496, Loss:  2.254\n",
      "Epoch   0 Batch  166/538 - Train Accuracy:  0.447, Validation Accuracy:  0.497, Loss:  2.393\n",
      "Epoch   0 Batch  167/538 - Train Accuracy:  0.485, Validation Accuracy:  0.498, Loss:  2.256\n",
      "Epoch   0 Batch  168/538 - Train Accuracy:  0.436, Validation Accuracy:  0.498, Loss:  2.403\n",
      "Epoch   0 Batch  169/538 - Train Accuracy:  0.446, Validation Accuracy:  0.499, Loss:  2.372\n",
      "Epoch   0 Batch  170/538 - Train Accuracy:  0.463, Validation Accuracy:  0.498, Loss:  2.323\n",
      "Epoch   0 Batch  171/538 - Train Accuracy:  0.431, Validation Accuracy:  0.497, Loss:  2.417\n",
      "Epoch   0 Batch  172/538 - Train Accuracy:  0.456, Validation Accuracy:  0.491, Loss:  2.314\n",
      "Epoch   0 Batch  173/538 - Train Accuracy:  0.464, Validation Accuracy:  0.493, Loss:  2.292\n",
      "Epoch   0 Batch  174/538 - Train Accuracy:  0.428, Validation Accuracy:  0.494, Loss:  2.424\n",
      "Epoch   0 Batch  175/538 - Train Accuracy:  0.388, Validation Accuracy:  0.479, Loss:  2.485\n",
      "Epoch   0 Batch  176/538 - Train Accuracy:  0.446, Validation Accuracy:  0.497, Loss:  2.462\n",
      "Epoch   0 Batch  177/538 - Train Accuracy:  0.463, Validation Accuracy:  0.501, Loss:  2.306\n",
      "Epoch   0 Batch  178/538 - Train Accuracy:  0.473, Validation Accuracy:  0.492, Loss:  2.206\n",
      "Epoch   0 Batch  179/538 - Train Accuracy:  0.452, Validation Accuracy:  0.507, Loss:  2.377\n",
      "Epoch   0 Batch  180/538 - Train Accuracy:  0.481, Validation Accuracy:  0.497, Loss:  2.238\n",
      "Epoch   0 Batch  181/538 - Train Accuracy:  0.432, Validation Accuracy:  0.501, Loss:  2.403\n",
      "Epoch   0 Batch  182/538 - Train Accuracy:  0.431, Validation Accuracy:  0.501, Loss:  2.374\n",
      "Epoch   0 Batch  183/538 - Train Accuracy:  0.466, Validation Accuracy:  0.501, Loss:  2.236\n",
      "Epoch   0 Batch  184/538 - Train Accuracy:  0.460, Validation Accuracy:  0.500, Loss:  2.245\n",
      "Epoch   0 Batch  185/538 - Train Accuracy:  0.444, Validation Accuracy:  0.494, Loss:  2.296\n",
      "Epoch   0 Batch  186/538 - Train Accuracy:  0.469, Validation Accuracy:  0.507, Loss:  2.272\n",
      "Epoch   0 Batch  187/538 - Train Accuracy:  0.486, Validation Accuracy:  0.505, Loss:  2.181\n",
      "Epoch   0 Batch  188/538 - Train Accuracy:  0.433, Validation Accuracy:  0.500, Loss:  2.332\n",
      "Epoch   0 Batch  189/538 - Train Accuracy:  0.448, Validation Accuracy:  0.497, Loss:  2.306\n",
      "Epoch   0 Batch  190/538 - Train Accuracy:  0.457, Validation Accuracy:  0.492, Loss:  2.268\n",
      "Epoch   0 Batch  191/538 - Train Accuracy:  0.480, Validation Accuracy:  0.498, Loss:  2.190\n",
      "Epoch   0 Batch  192/538 - Train Accuracy:  0.465, Validation Accuracy:  0.502, Loss:  2.209\n",
      "Epoch   0 Batch  193/538 - Train Accuracy:  0.476, Validation Accuracy:  0.497, Loss:  2.178\n",
      "Epoch   0 Batch  194/538 - Train Accuracy:  0.442, Validation Accuracy:  0.508, Loss:  2.341\n",
      "Epoch   0 Batch  195/538 - Train Accuracy:  0.476, Validation Accuracy:  0.500, Loss:  2.183\n",
      "Epoch   0 Batch  196/538 - Train Accuracy:  0.459, Validation Accuracy:  0.502, Loss:  2.224\n",
      "Epoch   0 Batch  197/538 - Train Accuracy:  0.478, Validation Accuracy:  0.499, Loss:  2.149\n",
      "Epoch   0 Batch  198/538 - Train Accuracy:  0.483, Validation Accuracy:  0.495, Loss:  2.141\n",
      "Epoch   0 Batch  199/538 - Train Accuracy:  0.433, Validation Accuracy:  0.493, Loss:  2.315\n",
      "Epoch   0 Batch  200/538 - Train Accuracy:  0.443, Validation Accuracy:  0.495, Loss:  2.269\n",
      "Epoch   0 Batch  201/538 - Train Accuracy:  0.479, Validation Accuracy:  0.498, Loss:  2.120\n",
      "Epoch   0 Batch  202/538 - Train Accuracy:  0.438, Validation Accuracy:  0.500, Loss:  2.311\n",
      "Epoch   0 Batch  203/538 - Train Accuracy:  0.435, Validation Accuracy:  0.501, Loss:  2.275\n",
      "Epoch   0 Batch  204/538 - Train Accuracy:  0.435, Validation Accuracy:  0.498, Loss:  2.245\n",
      "Epoch   0 Batch  205/538 - Train Accuracy:  0.484, Validation Accuracy:  0.505, Loss:  2.143\n",
      "Epoch   0 Batch  206/538 - Train Accuracy:  0.416, Validation Accuracy:  0.485, Loss:  2.278\n",
      "Epoch   0 Batch  207/538 - Train Accuracy:  0.468, Validation Accuracy:  0.497, Loss:  2.193\n",
      "Epoch   0 Batch  208/538 - Train Accuracy:  0.453, Validation Accuracy:  0.503, Loss:  2.235\n",
      "Epoch   0 Batch  209/538 - Train Accuracy:  0.427, Validation Accuracy:  0.499, Loss:  2.271\n",
      "Epoch   0 Batch  210/538 - Train Accuracy:  0.473, Validation Accuracy:  0.506, Loss:  2.149\n",
      "Epoch   0 Batch  211/538 - Train Accuracy:  0.437, Validation Accuracy:  0.506, Loss:  2.267\n",
      "Epoch   0 Batch  212/538 - Train Accuracy:  0.452, Validation Accuracy:  0.490, Loss:  2.151\n",
      "Epoch   0 Batch  213/538 - Train Accuracy:  0.457, Validation Accuracy:  0.506, Loss:  2.208\n",
      "Epoch   0 Batch  214/538 - Train Accuracy:  0.447, Validation Accuracy:  0.504, Loss:  2.228\n",
      "Epoch   0 Batch  215/538 - Train Accuracy:  0.419, Validation Accuracy:  0.490, Loss:  2.243\n",
      "Epoch   0 Batch  216/538 - Train Accuracy:  0.425, Validation Accuracy:  0.507, Loss:  2.271\n",
      "Epoch   0 Batch  217/538 - Train Accuracy:  0.478, Validation Accuracy:  0.504, Loss:  2.140\n",
      "Epoch   0 Batch  218/538 - Train Accuracy:  0.410, Validation Accuracy:  0.487, Loss:  2.241\n",
      "Epoch   0 Batch  219/538 - Train Accuracy:  0.439, Validation Accuracy:  0.506, Loss:  2.252\n",
      "Epoch   0 Batch  220/538 - Train Accuracy:  0.459, Validation Accuracy:  0.506, Loss:  2.119\n",
      "Epoch   0 Batch  221/538 - Train Accuracy:  0.455, Validation Accuracy:  0.501, Loss:  2.168\n",
      "Epoch   0 Batch  222/538 - Train Accuracy:  0.458, Validation Accuracy:  0.499, Loss:  2.076\n",
      "Epoch   0 Batch  223/538 - Train Accuracy:  0.446, Validation Accuracy:  0.506, Loss:  2.229\n",
      "Epoch   0 Batch  224/538 - Train Accuracy:  0.430, Validation Accuracy:  0.505, Loss:  2.228\n",
      "Epoch   0 Batch  225/538 - Train Accuracy:  0.462, Validation Accuracy:  0.499, Loss:  2.077\n",
      "Epoch   0 Batch  226/538 - Train Accuracy:  0.466, Validation Accuracy:  0.506, Loss:  2.086\n",
      "Epoch   0 Batch  227/538 - Train Accuracy:  0.508, Validation Accuracy:  0.511, Loss:  1.977\n",
      "Epoch   0 Batch  228/538 - Train Accuracy:  0.451, Validation Accuracy:  0.501, Loss:  2.088\n",
      "Epoch   0 Batch  229/538 - Train Accuracy:  0.455, Validation Accuracy:  0.498, Loss:  2.084\n",
      "Epoch   0 Batch  230/538 - Train Accuracy:  0.446, Validation Accuracy:  0.510, Loss:  2.156\n",
      "Epoch   0 Batch  231/538 - Train Accuracy:  0.449, Validation Accuracy:  0.507, Loss:  2.131\n",
      "Epoch   0 Batch  232/538 - Train Accuracy:  0.411, Validation Accuracy:  0.493, Loss:  2.166\n",
      "Epoch   0 Batch  233/538 - Train Accuracy:  0.486, Validation Accuracy:  0.510, Loss:  2.100\n",
      "Epoch   0 Batch  234/538 - Train Accuracy:  0.448, Validation Accuracy:  0.512, Loss:  2.168\n",
      "Epoch   0 Batch  235/538 - Train Accuracy:  0.454, Validation Accuracy:  0.500, Loss:  2.092\n",
      "Epoch   0 Batch  236/538 - Train Accuracy:  0.427, Validation Accuracy:  0.497, Loss:  2.156\n",
      "Epoch   0 Batch  237/538 - Train Accuracy:  0.473, Validation Accuracy:  0.512, Loss:  2.075\n",
      "Epoch   0 Batch  238/538 - Train Accuracy:  0.487, Validation Accuracy:  0.506, Loss:  2.018\n",
      "Epoch   0 Batch  239/538 - Train Accuracy:  0.436, Validation Accuracy:  0.494, Loss:  2.153\n",
      "Epoch   0 Batch  240/538 - Train Accuracy:  0.455, Validation Accuracy:  0.503, Loss:  2.136\n",
      "Epoch   0 Batch  241/538 - Train Accuracy:  0.442, Validation Accuracy:  0.509, Loss:  2.132\n",
      "Epoch   0 Batch  242/538 - Train Accuracy:  0.450, Validation Accuracy:  0.499, Loss:  2.124\n",
      "Epoch   0 Batch  243/538 - Train Accuracy:  0.416, Validation Accuracy:  0.499, Loss:  2.221\n",
      "Epoch   0 Batch  244/538 - Train Accuracy:  0.457, Validation Accuracy:  0.509, Loss:  2.068\n",
      "Epoch   0 Batch  245/538 - Train Accuracy:  0.450, Validation Accuracy:  0.499, Loss:  2.107\n",
      "Epoch   0 Batch  246/538 - Train Accuracy:  0.467, Validation Accuracy:  0.498, Loss:  2.006\n",
      "Epoch   0 Batch  247/538 - Train Accuracy:  0.425, Validation Accuracy:  0.514, Loss:  2.160\n",
      "Epoch   0 Batch  248/538 - Train Accuracy:  0.450, Validation Accuracy:  0.509, Loss:  2.119\n",
      "Epoch   0 Batch  249/538 - Train Accuracy:  0.461, Validation Accuracy:  0.494, Loss:  2.002\n",
      "Epoch   0 Batch  250/538 - Train Accuracy:  0.446, Validation Accuracy:  0.508, Loss:  2.132\n",
      "Epoch   0 Batch  251/538 - Train Accuracy:  0.434, Validation Accuracy:  0.494, Loss:  2.108\n",
      "Epoch   0 Batch  252/538 - Train Accuracy:  0.455, Validation Accuracy:  0.494, Loss:  1.972\n",
      "Epoch   0 Batch  253/538 - Train Accuracy:  0.470, Validation Accuracy:  0.511, Loss:  2.004\n",
      "Epoch   0 Batch  254/538 - Train Accuracy:  0.474, Validation Accuracy:  0.515, Loss:  2.046\n",
      "Epoch   0 Batch  255/538 - Train Accuracy:  0.434, Validation Accuracy:  0.488, Loss:  2.115\n",
      "Epoch   0 Batch  256/538 - Train Accuracy:  0.443, Validation Accuracy:  0.511, Loss:  2.125\n",
      "Epoch   0 Batch  257/538 - Train Accuracy:  0.488, Validation Accuracy:  0.519, Loss:  1.993\n",
      "Epoch   0 Batch  258/538 - Train Accuracy:  0.470, Validation Accuracy:  0.487, Loss:  1.976\n",
      "Epoch   0 Batch  259/538 - Train Accuracy:  0.464, Validation Accuracy:  0.502, Loss:  2.035\n",
      "Epoch   0 Batch  260/538 - Train Accuracy:  0.471, Validation Accuracy:  0.515, Loss:  2.018\n",
      "Epoch   0 Batch  261/538 - Train Accuracy:  0.429, Validation Accuracy:  0.495, Loss:  2.128\n",
      "Epoch   0 Batch  262/538 - Train Accuracy:  0.419, Validation Accuracy:  0.502, Loss:  2.178\n",
      "Epoch   0 Batch  263/538 - Train Accuracy:  0.462, Validation Accuracy:  0.512, Loss:  2.063\n",
      "Epoch   0 Batch  264/538 - Train Accuracy:  0.444, Validation Accuracy:  0.497, Loss:  2.075\n",
      "Epoch   0 Batch  265/538 - Train Accuracy:  0.424, Validation Accuracy:  0.502, Loss:  2.086\n",
      "Epoch   0 Batch  266/538 - Train Accuracy:  0.480, Validation Accuracy:  0.512, Loss:  1.997\n",
      "Epoch   0 Batch  267/538 - Train Accuracy:  0.438, Validation Accuracy:  0.504, Loss:  2.056\n",
      "Epoch   0 Batch  268/538 - Train Accuracy:  0.461, Validation Accuracy:  0.500, Loss:  1.985\n",
      "Epoch   0 Batch  269/538 - Train Accuracy:  0.446, Validation Accuracy:  0.507, Loss:  2.021\n",
      "Epoch   0 Batch  270/538 - Train Accuracy:  0.422, Validation Accuracy:  0.496, Loss:  2.082\n",
      "Epoch   0 Batch  271/538 - Train Accuracy:  0.441, Validation Accuracy:  0.497, Loss:  2.073\n",
      "Epoch   0 Batch  272/538 - Train Accuracy:  0.429, Validation Accuracy:  0.513, Loss:  2.153\n",
      "Epoch   0 Batch  273/538 - Train Accuracy:  0.435, Validation Accuracy:  0.488, Loss:  2.041\n",
      "Epoch   0 Batch  274/538 - Train Accuracy:  0.420, Validation Accuracy:  0.512, Loss:  2.142\n",
      "Epoch   0 Batch  275/538 - Train Accuracy:  0.452, Validation Accuracy:  0.514, Loss:  2.062\n",
      "Epoch   0 Batch  276/538 - Train Accuracy:  0.438, Validation Accuracy:  0.492, Loss:  2.061\n",
      "Epoch   0 Batch  277/538 - Train Accuracy:  0.461, Validation Accuracy:  0.513, Loss:  2.017\n",
      "Epoch   0 Batch  278/538 - Train Accuracy:  0.454, Validation Accuracy:  0.505, Loss:  1.991\n",
      "Epoch   0 Batch  279/538 - Train Accuracy:  0.434, Validation Accuracy:  0.487, Loss:  2.011\n",
      "Epoch   0 Batch  280/538 - Train Accuracy:  0.482, Validation Accuracy:  0.512, Loss:  1.957\n",
      "Epoch   0 Batch  281/538 - Train Accuracy:  0.469, Validation Accuracy:  0.518, Loss:  2.003\n",
      "Epoch   0 Batch  282/538 - Train Accuracy:  0.448, Validation Accuracy:  0.493, Loss:  1.982\n",
      "Epoch   0 Batch  283/538 - Train Accuracy:  0.464, Validation Accuracy:  0.509, Loss:  1.964\n",
      "Epoch   0 Batch  284/538 - Train Accuracy:  0.473, Validation Accuracy:  0.514, Loss:  2.011\n",
      "Epoch   0 Batch  285/538 - Train Accuracy:  0.470, Validation Accuracy:  0.496, Loss:  1.938\n",
      "Epoch   0 Batch  286/538 - Train Accuracy:  0.438, Validation Accuracy:  0.494, Loss:  2.043\n",
      "Epoch   0 Batch  287/538 - Train Accuracy:  0.491, Validation Accuracy:  0.511, Loss:  1.946\n",
      "Epoch   0 Batch  288/538 - Train Accuracy:  0.431, Validation Accuracy:  0.509, Loss:  2.061\n",
      "Epoch   0 Batch  289/538 - Train Accuracy:  0.454, Validation Accuracy:  0.493, Loss:  1.923\n",
      "Epoch   0 Batch  290/538 - Train Accuracy:  0.451, Validation Accuracy:  0.514, Loss:  2.030\n",
      "Epoch   0 Batch  291/538 - Train Accuracy:  0.462, Validation Accuracy:  0.509, Loss:  1.968\n",
      "Epoch   0 Batch  292/538 - Train Accuracy:  0.463, Validation Accuracy:  0.493, Loss:  1.897\n",
      "Epoch   0 Batch  293/538 - Train Accuracy:  0.469, Validation Accuracy:  0.505, Loss:  1.936\n",
      "Epoch   0 Batch  294/538 - Train Accuracy:  0.437, Validation Accuracy:  0.515, Loss:  2.096\n",
      "Epoch   0 Batch  295/538 - Train Accuracy:  0.499, Validation Accuracy:  0.508, Loss:  1.870\n",
      "Epoch   0 Batch  296/538 - Train Accuracy:  0.454, Validation Accuracy:  0.494, Loss:  1.905\n",
      "Epoch   0 Batch  297/538 - Train Accuracy:  0.443, Validation Accuracy:  0.516, Loss:  2.084\n",
      "Epoch   0 Batch  298/538 - Train Accuracy:  0.456, Validation Accuracy:  0.512, Loss:  1.981\n",
      "Epoch   0 Batch  299/538 - Train Accuracy:  0.457, Validation Accuracy:  0.492, Loss:  1.940\n",
      "Epoch   0 Batch  300/538 - Train Accuracy:  0.471, Validation Accuracy:  0.493, Loss:  1.868\n",
      "Epoch   0 Batch  301/538 - Train Accuracy:  0.472, Validation Accuracy:  0.513, Loss:  1.956\n",
      "Epoch   0 Batch  302/538 - Train Accuracy:  0.482, Validation Accuracy:  0.510, Loss:  1.891\n",
      "Epoch   0 Batch  303/538 - Train Accuracy:  0.495, Validation Accuracy:  0.492, Loss:  1.810\n",
      "Epoch   0 Batch  304/538 - Train Accuracy:  0.456, Validation Accuracy:  0.513, Loss:  2.010\n",
      "Epoch   0 Batch  305/538 - Train Accuracy:  0.461, Validation Accuracy:  0.513, Loss:  1.921\n",
      "Epoch   0 Batch  306/538 - Train Accuracy:  0.473, Validation Accuracy:  0.498, Loss:  1.893\n",
      "Epoch   0 Batch  307/538 - Train Accuracy:  0.454, Validation Accuracy:  0.496, Loss:  1.946\n",
      "Epoch   0 Batch  308/538 - Train Accuracy:  0.471, Validation Accuracy:  0.511, Loss:  1.919\n",
      "Epoch   0 Batch  309/538 - Train Accuracy:  0.436, Validation Accuracy:  0.514, Loss:  2.018\n",
      "Epoch   0 Batch  310/538 - Train Accuracy:  0.419, Validation Accuracy:  0.500, Loss:  2.016\n",
      "Epoch   0 Batch  311/538 - Train Accuracy:  0.475, Validation Accuracy:  0.504, Loss:  1.850\n",
      "Epoch   0 Batch  312/538 - Train Accuracy:  0.512, Validation Accuracy:  0.516, Loss:  1.783\n",
      "Epoch   0 Batch  313/538 - Train Accuracy:  0.460, Validation Accuracy:  0.515, Loss:  1.937\n",
      "Epoch   0 Batch  314/538 - Train Accuracy:  0.464, Validation Accuracy:  0.502, Loss:  1.904\n",
      "Epoch   0 Batch  315/538 - Train Accuracy:  0.470, Validation Accuracy:  0.504, Loss:  1.898\n",
      "Epoch   0 Batch  316/538 - Train Accuracy:  0.478, Validation Accuracy:  0.512, Loss:  1.876\n",
      "Epoch   0 Batch  317/538 - Train Accuracy:  0.439, Validation Accuracy:  0.495, Loss:  1.940\n",
      "Epoch   0 Batch  318/538 - Train Accuracy:  0.456, Validation Accuracy:  0.499, Loss:  1.858\n",
      "Epoch   0 Batch  319/538 - Train Accuracy:  0.475, Validation Accuracy:  0.510, Loss:  1.853\n",
      "Epoch   0 Batch  320/538 - Train Accuracy:  0.477, Validation Accuracy:  0.514, Loss:  1.882\n",
      "Epoch   0 Batch  321/538 - Train Accuracy:  0.463, Validation Accuracy:  0.502, Loss:  1.843\n",
      "Epoch   0 Batch  322/538 - Train Accuracy:  0.460, Validation Accuracy:  0.506, Loss:  1.921\n",
      "Epoch   0 Batch  323/538 - Train Accuracy:  0.475, Validation Accuracy:  0.517, Loss:  1.865\n",
      "Epoch   0 Batch  324/538 - Train Accuracy:  0.431, Validation Accuracy:  0.506, Loss:  1.991\n",
      "Epoch   0 Batch  325/538 - Train Accuracy:  0.450, Validation Accuracy:  0.504, Loss:  1.884\n",
      "Epoch   0 Batch  326/538 - Train Accuracy:  0.463, Validation Accuracy:  0.509, Loss:  1.888\n",
      "Epoch   0 Batch  327/538 - Train Accuracy:  0.457, Validation Accuracy:  0.512, Loss:  1.939\n",
      "Epoch   0 Batch  328/538 - Train Accuracy:  0.464, Validation Accuracy:  0.509, Loss:  1.849\n",
      "Epoch   0 Batch  329/538 - Train Accuracy:  0.472, Validation Accuracy:  0.513, Loss:  1.863\n",
      "Epoch   0 Batch  330/538 - Train Accuracy:  0.490, Validation Accuracy:  0.513, Loss:  1.829\n",
      "Epoch   0 Batch  331/538 - Train Accuracy:  0.428, Validation Accuracy:  0.503, Loss:  1.923\n",
      "Epoch   0 Batch  332/538 - Train Accuracy:  0.433, Validation Accuracy:  0.504, Loss:  1.929\n",
      "Epoch   0 Batch  333/538 - Train Accuracy:  0.484, Validation Accuracy:  0.516, Loss:  1.830\n",
      "Epoch   0 Batch  334/538 - Train Accuracy:  0.502, Validation Accuracy:  0.509, Loss:  1.745\n",
      "Epoch   0 Batch  335/538 - Train Accuracy:  0.474, Validation Accuracy:  0.505, Loss:  1.815\n",
      "Epoch   0 Batch  336/538 - Train Accuracy:  0.491, Validation Accuracy:  0.520, Loss:  1.841\n",
      "Epoch   0 Batch  337/538 - Train Accuracy:  0.487, Validation Accuracy:  0.517, Loss:  1.844\n",
      "Epoch   0 Batch  338/538 - Train Accuracy:  0.466, Validation Accuracy:  0.507, Loss:  1.863\n",
      "Epoch   0 Batch  339/538 - Train Accuracy:  0.471, Validation Accuracy:  0.506, Loss:  1.821\n",
      "Epoch   0 Batch  340/538 - Train Accuracy:  0.430, Validation Accuracy:  0.509, Loss:  1.918\n",
      "Epoch   0 Batch  341/538 - Train Accuracy:  0.442, Validation Accuracy:  0.515, Loss:  1.900\n",
      "Epoch   0 Batch  342/538 - Train Accuracy:  0.472, Validation Accuracy:  0.507, Loss:  1.829\n",
      "Epoch   0 Batch  343/538 - Train Accuracy:  0.473, Validation Accuracy:  0.516, Loss:  1.866\n",
      "Epoch   0 Batch  344/538 - Train Accuracy:  0.463, Validation Accuracy:  0.517, Loss:  1.839\n",
      "Epoch   0 Batch  345/538 - Train Accuracy:  0.481, Validation Accuracy:  0.507, Loss:  1.815\n",
      "Epoch   0 Batch  346/538 - Train Accuracy:  0.469, Validation Accuracy:  0.512, Loss:  1.841\n",
      "Epoch   0 Batch  347/538 - Train Accuracy:  0.469, Validation Accuracy:  0.518, Loss:  1.877\n",
      "Epoch   0 Batch  348/538 - Train Accuracy:  0.473, Validation Accuracy:  0.514, Loss:  1.839\n",
      "Epoch   0 Batch  349/538 - Train Accuracy:  0.445, Validation Accuracy:  0.511, Loss:  1.858\n",
      "Epoch   0 Batch  350/538 - Train Accuracy:  0.483, Validation Accuracy:  0.518, Loss:  1.878\n",
      "Epoch   0 Batch  351/538 - Train Accuracy:  0.457, Validation Accuracy:  0.519, Loss:  1.947\n",
      "Epoch   0 Batch  352/538 - Train Accuracy:  0.491, Validation Accuracy:  0.517, Loss:  1.783\n",
      "Epoch   0 Batch  353/538 - Train Accuracy:  0.480, Validation Accuracy:  0.520, Loss:  1.836\n",
      "Epoch   0 Batch  354/538 - Train Accuracy:  0.446, Validation Accuracy:  0.510, Loss:  1.910\n",
      "Epoch   0 Batch  355/538 - Train Accuracy:  0.455, Validation Accuracy:  0.512, Loss:  1.913\n",
      "Epoch   0 Batch  356/538 - Train Accuracy:  0.501, Validation Accuracy:  0.520, Loss:  1.743\n",
      "Epoch   0 Batch  357/538 - Train Accuracy:  0.462, Validation Accuracy:  0.512, Loss:  1.880\n",
      "Epoch   0 Batch  358/538 - Train Accuracy:  0.459, Validation Accuracy:  0.516, Loss:  1.862\n",
      "Epoch   0 Batch  359/538 - Train Accuracy:  0.498, Validation Accuracy:  0.517, Loss:  1.761\n",
      "Epoch   0 Batch  360/538 - Train Accuracy:  0.449, Validation Accuracy:  0.509, Loss:  1.890\n",
      "Epoch   0 Batch  361/538 - Train Accuracy:  0.485, Validation Accuracy:  0.521, Loss:  1.792\n",
      "Epoch   0 Batch  362/538 - Train Accuracy:  0.481, Validation Accuracy:  0.524, Loss:  1.732\n",
      "Epoch   0 Batch  363/538 - Train Accuracy:  0.483, Validation Accuracy:  0.514, Loss:  1.758\n",
      "Epoch   0 Batch  364/538 - Train Accuracy:  0.424, Validation Accuracy:  0.497, Loss:  1.851\n",
      "Epoch   0 Batch  365/538 - Train Accuracy:  0.476, Validation Accuracy:  0.517, Loss:  1.852\n",
      "Epoch   0 Batch  366/538 - Train Accuracy:  0.467, Validation Accuracy:  0.516, Loss:  1.865\n",
      "Epoch   0 Batch  367/538 - Train Accuracy:  0.454, Validation Accuracy:  0.509, Loss:  1.817\n",
      "Epoch   0 Batch  368/538 - Train Accuracy:  0.556, Validation Accuracy:  0.525, Loss:  1.568\n",
      "Epoch   0 Batch  369/538 - Train Accuracy:  0.482, Validation Accuracy:  0.531, Loss:  1.806\n",
      "Epoch   0 Batch  370/538 - Train Accuracy:  0.451, Validation Accuracy:  0.506, Loss:  1.856\n",
      "Epoch   0 Batch  371/538 - Train Accuracy:  0.484, Validation Accuracy:  0.518, Loss:  1.770\n",
      "Epoch   0 Batch  372/538 - Train Accuracy:  0.491, Validation Accuracy:  0.524, Loss:  1.783\n",
      "Epoch   0 Batch  373/538 - Train Accuracy:  0.454, Validation Accuracy:  0.515, Loss:  1.825\n",
      "Epoch   0 Batch  374/538 - Train Accuracy:  0.464, Validation Accuracy:  0.521, Loss:  1.859\n",
      "Epoch   0 Batch  375/538 - Train Accuracy:  0.507, Validation Accuracy:  0.524, Loss:  1.684\n",
      "Epoch   0 Batch  376/538 - Train Accuracy:  0.474, Validation Accuracy:  0.524, Loss:  1.793\n",
      "Epoch   0 Batch  377/538 - Train Accuracy:  0.479, Validation Accuracy:  0.509, Loss:  1.733\n",
      "Epoch   0 Batch  378/538 - Train Accuracy:  0.509, Validation Accuracy:  0.528, Loss:  1.721\n",
      "Epoch   0 Batch  379/538 - Train Accuracy:  0.504, Validation Accuracy:  0.519, Loss:  1.760\n",
      "Epoch   0 Batch  380/538 - Train Accuracy:  0.454, Validation Accuracy:  0.505, Loss:  1.798\n",
      "Epoch   0 Batch  381/538 - Train Accuracy:  0.491, Validation Accuracy:  0.520, Loss:  1.746\n",
      "Epoch   0 Batch  382/538 - Train Accuracy:  0.476, Validation Accuracy:  0.521, Loss:  1.796\n",
      "Epoch   0 Batch  383/538 - Train Accuracy:  0.463, Validation Accuracy:  0.520, Loss:  1.807\n",
      "Epoch   0 Batch  384/538 - Train Accuracy:  0.475, Validation Accuracy:  0.515, Loss:  1.786\n",
      "Epoch   0 Batch  385/538 - Train Accuracy:  0.496, Validation Accuracy:  0.520, Loss:  1.792\n",
      "Epoch   0 Batch  386/538 - Train Accuracy:  0.477, Validation Accuracy:  0.529, Loss:  1.834\n",
      "Epoch   0 Batch  387/538 - Train Accuracy:  0.453, Validation Accuracy:  0.510, Loss:  1.812\n",
      "Epoch   0 Batch  388/538 - Train Accuracy:  0.494, Validation Accuracy:  0.528, Loss:  1.753\n",
      "Epoch   0 Batch  389/538 - Train Accuracy:  0.465, Validation Accuracy:  0.515, Loss:  1.834\n",
      "Epoch   0 Batch  390/538 - Train Accuracy:  0.510, Validation Accuracy:  0.523, Loss:  1.744\n",
      "Epoch   0 Batch  391/538 - Train Accuracy:  0.474, Validation Accuracy:  0.513, Loss:  1.743\n",
      "Epoch   0 Batch  392/538 - Train Accuracy:  0.481, Validation Accuracy:  0.525, Loss:  1.783\n",
      "Epoch   0 Batch  393/538 - Train Accuracy:  0.505, Validation Accuracy:  0.529, Loss:  1.657\n",
      "Epoch   0 Batch  394/538 - Train Accuracy:  0.442, Validation Accuracy:  0.518, Loss:  1.819\n",
      "Epoch   0 Batch  395/538 - Train Accuracy:  0.459, Validation Accuracy:  0.513, Loss:  1.800\n",
      "Epoch   0 Batch  396/538 - Train Accuracy:  0.473, Validation Accuracy:  0.530, Loss:  1.759\n",
      "Epoch   0 Batch  397/538 - Train Accuracy:  0.469, Validation Accuracy:  0.531, Loss:  1.858\n",
      "Epoch   0 Batch  398/538 - Train Accuracy:  0.464, Validation Accuracy:  0.518, Loss:  1.798\n",
      "Epoch   0 Batch  399/538 - Train Accuracy:  0.461, Validation Accuracy:  0.526, Loss:  1.831\n",
      "Epoch   0 Batch  400/538 - Train Accuracy:  0.488, Validation Accuracy:  0.523, Loss:  1.734\n",
      "Epoch   0 Batch  401/538 - Train Accuracy:  0.470, Validation Accuracy:  0.527, Loss:  1.772\n",
      "Epoch   0 Batch  402/538 - Train Accuracy:  0.485, Validation Accuracy:  0.523, Loss:  1.748\n",
      "Epoch   0 Batch  403/538 - Train Accuracy:  0.465, Validation Accuracy:  0.525, Loss:  1.807\n",
      "Epoch   0 Batch  404/538 - Train Accuracy:  0.508, Validation Accuracy:  0.525, Loss:  1.652\n",
      "Epoch   0 Batch  405/538 - Train Accuracy:  0.489, Validation Accuracy:  0.525, Loss:  1.699\n",
      "Epoch   0 Batch  406/538 - Train Accuracy:  0.485, Validation Accuracy:  0.524, Loss:  1.712\n",
      "Epoch   0 Batch  407/538 - Train Accuracy:  0.499, Validation Accuracy:  0.529, Loss:  1.689\n"
     ]
    }
   ],
   "source": [
    "\"\"\"\n",
    "DON'T MODIFY ANYTHING IN THIS CELL\n",
    "\"\"\"\n",
    "import time\n",
    "\n",
    "def get_accuracy(target, logits):\n",
    "    \"\"\"\n",
    "    Calculate accuracy\n",
    "    \"\"\"\n",
    "    max_seq = max(target.shape[1], logits.shape[1])\n",
    "    if max_seq - target.shape[1]:\n",
    "        target = np.pad(\n",
    "            target_batch,\n",
    "            [(0,0),(0,max_seq - target_batch.shape[1]), (0,0)],\n",
    "            'constant')\n",
    "    if max_seq - batch_train_logits.shape[1]:\n",
    "        logits = np.pad(\n",
    "            logits,\n",
    "            [(0,0),(0,max_seq - logits.shape[1]), (0,0)],\n",
    "            'constant')\n",
    "\n",
    "    return np.mean(np.equal(target, np.argmax(logits, 2)))\n",
    "\n",
    "train_source = source_int_text[batch_size:]\n",
    "train_target = target_int_text[batch_size:]\n",
    "\n",
    "valid_source = helper.pad_sentence_batch(source_int_text[:batch_size])\n",
    "valid_target = helper.pad_sentence_batch(target_int_text[:batch_size])\n",
    "\n",
    "with tf.Session(graph=train_graph) as sess:\n",
    "    sess.run(tf.global_variables_initializer())\n",
    "\n",
    "    for epoch_i in range(epochs):\n",
    "        for batch_i, (source_batch, target_batch) in enumerate(\n",
    "                helper.batch_data(train_source, train_target, batch_size)):\n",
    "            start_time = time.time()\n",
    "            \n",
    "            _, loss = sess.run(\n",
    "                [train_op, cost],\n",
    "                {input_data: source_batch,\n",
    "                 targets: target_batch,\n",
    "                 lr: learning_rate,\n",
    "                 sequence_length: target_batch.shape[1],\n",
    "                 keep_prob: keep_probability})\n",
    "            \n",
    "            batch_train_logits = sess.run(\n",
    "                inference_logits,\n",
    "                {input_data: source_batch, keep_prob: 1.0})\n",
    "            batch_valid_logits = sess.run(\n",
    "                inference_logits,\n",
    "                {input_data: valid_source, keep_prob: 1.0})\n",
    "                \n",
    "            train_acc = get_accuracy(target_batch, batch_train_logits)\n",
    "            valid_acc = get_accuracy(np.array(valid_target), batch_valid_logits)\n",
    "            end_time = time.time()\n",
    "            print('Epoch {:>3} Batch {:>4}/{} - Train Accuracy: {:>6.3f}, Validation Accuracy: {:>6.3f}, Loss: {:>6.3f}'\n",
    "                  .format(epoch_i, batch_i, len(source_int_text) // batch_size, train_acc, valid_acc, loss))\n",
    "\n",
    "    # Save Model\n",
    "    saver = tf.train.Saver()\n",
    "    saver.save(sess, save_path)\n",
    "    print('Model Trained and Saved')"
   ]
  },
  {
   "cell_type": "markdown",
   "metadata": {
    "deletable": true,
    "editable": true
   },
   "source": [
    "### Save Parameters\n",
    "Save the `batch_size` and `save_path` parameters for inference."
   ]
  },
  {
   "cell_type": "code",
   "execution_count": 118,
   "metadata": {
    "collapsed": false,
    "deletable": true,
    "editable": true
   },
   "outputs": [],
   "source": [
    "\"\"\"\n",
    "DON'T MODIFY ANYTHING IN THIS CELL\n",
    "\"\"\"\n",
    "# Save parameters for checkpoint\n",
    "helper.save_params(save_path)"
   ]
  },
  {
   "cell_type": "markdown",
   "metadata": {
    "deletable": true,
    "editable": true
   },
   "source": [
    "# Checkpoint"
   ]
  },
  {
   "cell_type": "code",
   "execution_count": 119,
   "metadata": {
    "collapsed": false,
    "deletable": true,
    "editable": true
   },
   "outputs": [],
   "source": [
    "\"\"\"\n",
    "DON'T MODIFY ANYTHING IN THIS CELL\n",
    "\"\"\"\n",
    "import tensorflow as tf\n",
    "import numpy as np\n",
    "import helper\n",
    "import problem_unittests as tests\n",
    "\n",
    "_, (source_vocab_to_int, target_vocab_to_int), (source_int_to_vocab, target_int_to_vocab) = helper.load_preprocess()\n",
    "load_path = helper.load_params()"
   ]
  },
  {
   "cell_type": "markdown",
   "metadata": {
    "deletable": true,
    "editable": true
   },
   "source": [
    "## Sentence to Sequence\n",
    "To feed a sentence into the model for translation, you first need to preprocess it.  Implement the function `sentence_to_seq()` to preprocess new sentences.\n",
    "\n",
    "- Convert the sentence to lowercase\n",
    "- Convert words into ids using `vocab_to_int`\n",
    " - Convert words not in the vocabulary, to the `<UNK>` word id."
   ]
  },
  {
   "cell_type": "code",
   "execution_count": 124,
   "metadata": {
    "collapsed": false,
    "deletable": true,
    "editable": true
   },
   "outputs": [
    {
     "name": "stdout",
     "output_type": "stream",
     "text": [
      "Tests Passed\n"
     ]
    }
   ],
   "source": [
    "def sentence_to_seq(sentence, vocab_to_int):\n",
    "    \"\"\"\n",
    "    Convert a sentence to a sequence of ids\n",
    "    :param sentence: String\n",
    "    :param vocab_to_int: Dictionary to go from the words to an id\n",
    "    :return: List of word ids\n",
    "    \"\"\"\n",
    "    # TODO: Implement Function\n",
    "    sentence = sentence.lower().split()\n",
    "    word_ids = [vocab_to_int.get(word, vocab_to_int['<UNK>']) for word in sentence]\n",
    "    return word_ids\n",
    "\n",
    "\n",
    "\"\"\"\n",
    "DON'T MODIFY ANYTHING IN THIS CELL THAT IS BELOW THIS LINE\n",
    "\"\"\"\n",
    "tests.test_sentence_to_seq(sentence_to_seq)"
   ]
  },
  {
   "cell_type": "markdown",
   "metadata": {
    "deletable": true,
    "editable": true
   },
   "source": [
    "## Translate\n",
    "This will translate `translate_sentence` from English to French."
   ]
  },
  {
   "cell_type": "code",
   "execution_count": 125,
   "metadata": {
    "collapsed": false,
    "deletable": true,
    "editable": true
   },
   "outputs": [
    {
     "ename": "OSError",
     "evalue": "File checkpoints/dev.meta does not exist.",
     "output_type": "error",
     "traceback": [
      "\u001b[0;31m---------------------------------------------------------------------------\u001b[0m",
      "\u001b[0;31mOSError\u001b[0m                                   Traceback (most recent call last)",
      "\u001b[0;32m<ipython-input-125-3275c3359f72>\u001b[0m in \u001b[0;36m<module>\u001b[0;34m()\u001b[0m\n\u001b[1;32m     10\u001b[0m \u001b[0;32mwith\u001b[0m \u001b[0mtf\u001b[0m\u001b[0;34m.\u001b[0m\u001b[0mSession\u001b[0m\u001b[0;34m(\u001b[0m\u001b[0mgraph\u001b[0m\u001b[0;34m=\u001b[0m\u001b[0mloaded_graph\u001b[0m\u001b[0;34m)\u001b[0m \u001b[0;32mas\u001b[0m \u001b[0msess\u001b[0m\u001b[0;34m:\u001b[0m\u001b[0;34m\u001b[0m\u001b[0m\n\u001b[1;32m     11\u001b[0m     \u001b[0;31m# Load saved model\u001b[0m\u001b[0;34m\u001b[0m\u001b[0;34m\u001b[0m\u001b[0m\n\u001b[0;32m---> 12\u001b[0;31m     \u001b[0mloader\u001b[0m \u001b[0;34m=\u001b[0m \u001b[0mtf\u001b[0m\u001b[0;34m.\u001b[0m\u001b[0mtrain\u001b[0m\u001b[0;34m.\u001b[0m\u001b[0mimport_meta_graph\u001b[0m\u001b[0;34m(\u001b[0m\u001b[0mload_path\u001b[0m \u001b[0;34m+\u001b[0m \u001b[0;34m'.meta'\u001b[0m\u001b[0;34m)\u001b[0m\u001b[0;34m\u001b[0m\u001b[0m\n\u001b[0m\u001b[1;32m     13\u001b[0m     \u001b[0mloader\u001b[0m\u001b[0;34m.\u001b[0m\u001b[0mrestore\u001b[0m\u001b[0;34m(\u001b[0m\u001b[0msess\u001b[0m\u001b[0;34m,\u001b[0m \u001b[0mload_path\u001b[0m\u001b[0;34m)\u001b[0m\u001b[0;34m\u001b[0m\u001b[0m\n\u001b[1;32m     14\u001b[0m \u001b[0;34m\u001b[0m\u001b[0m\n",
      "\u001b[0;32m/Users/bernhardlangwallner/anaconda/lib/python3.5/site-packages/tensorflow/python/training/saver.py\u001b[0m in \u001b[0;36mimport_meta_graph\u001b[0;34m(meta_graph_or_file, clear_devices, import_scope, **kwargs)\u001b[0m\n\u001b[1;32m   1568\u001b[0m   \"\"\"\n\u001b[1;32m   1569\u001b[0m   \u001b[0;32mif\u001b[0m \u001b[0;32mnot\u001b[0m \u001b[0misinstance\u001b[0m\u001b[0;34m(\u001b[0m\u001b[0mmeta_graph_or_file\u001b[0m\u001b[0;34m,\u001b[0m \u001b[0mmeta_graph_pb2\u001b[0m\u001b[0;34m.\u001b[0m\u001b[0mMetaGraphDef\u001b[0m\u001b[0;34m)\u001b[0m\u001b[0;34m:\u001b[0m\u001b[0;34m\u001b[0m\u001b[0m\n\u001b[0;32m-> 1570\u001b[0;31m     \u001b[0mmeta_graph_def\u001b[0m \u001b[0;34m=\u001b[0m \u001b[0mmeta_graph\u001b[0m\u001b[0;34m.\u001b[0m\u001b[0mread_meta_graph_file\u001b[0m\u001b[0;34m(\u001b[0m\u001b[0mmeta_graph_or_file\u001b[0m\u001b[0;34m)\u001b[0m\u001b[0;34m\u001b[0m\u001b[0m\n\u001b[0m\u001b[1;32m   1571\u001b[0m   \u001b[0;32melse\u001b[0m\u001b[0;34m:\u001b[0m\u001b[0;34m\u001b[0m\u001b[0m\n\u001b[1;32m   1572\u001b[0m     \u001b[0mmeta_graph_def\u001b[0m \u001b[0;34m=\u001b[0m \u001b[0mmeta_graph_or_file\u001b[0m\u001b[0;34m\u001b[0m\u001b[0m\n",
      "\u001b[0;32m/Users/bernhardlangwallner/anaconda/lib/python3.5/site-packages/tensorflow/python/framework/meta_graph.py\u001b[0m in \u001b[0;36mread_meta_graph_file\u001b[0;34m(filename)\u001b[0m\n\u001b[1;32m    400\u001b[0m   \u001b[0mmeta_graph_def\u001b[0m \u001b[0;34m=\u001b[0m \u001b[0mmeta_graph_pb2\u001b[0m\u001b[0;34m.\u001b[0m\u001b[0mMetaGraphDef\u001b[0m\u001b[0;34m(\u001b[0m\u001b[0;34m)\u001b[0m\u001b[0;34m\u001b[0m\u001b[0m\n\u001b[1;32m    401\u001b[0m   \u001b[0;32mif\u001b[0m \u001b[0;32mnot\u001b[0m \u001b[0mfile_io\u001b[0m\u001b[0;34m.\u001b[0m\u001b[0mfile_exists\u001b[0m\u001b[0;34m(\u001b[0m\u001b[0mfilename\u001b[0m\u001b[0;34m)\u001b[0m\u001b[0;34m:\u001b[0m\u001b[0;34m\u001b[0m\u001b[0m\n\u001b[0;32m--> 402\u001b[0;31m     \u001b[0;32mraise\u001b[0m \u001b[0mIOError\u001b[0m\u001b[0;34m(\u001b[0m\u001b[0;34m\"File %s does not exist.\"\u001b[0m \u001b[0;34m%\u001b[0m \u001b[0mfilename\u001b[0m\u001b[0;34m)\u001b[0m\u001b[0;34m\u001b[0m\u001b[0m\n\u001b[0m\u001b[1;32m    403\u001b[0m   \u001b[0;31m# First try to read it as a binary file.\u001b[0m\u001b[0;34m\u001b[0m\u001b[0;34m\u001b[0m\u001b[0m\n\u001b[1;32m    404\u001b[0m   \u001b[0mfile_content\u001b[0m \u001b[0;34m=\u001b[0m \u001b[0mfile_io\u001b[0m\u001b[0;34m.\u001b[0m\u001b[0mread_file_to_string\u001b[0m\u001b[0;34m(\u001b[0m\u001b[0mfilename\u001b[0m\u001b[0;34m)\u001b[0m\u001b[0;34m\u001b[0m\u001b[0m\n",
      "\u001b[0;31mOSError\u001b[0m: File checkpoints/dev.meta does not exist."
     ]
    }
   ],
   "source": [
    "translate_sentence = 'he saw a old yellow truck .'\n",
    "\n",
    "\n",
    "\"\"\"\n",
    "DON'T MODIFY ANYTHING IN THIS CELL\n",
    "\"\"\"\n",
    "translate_sentence = sentence_to_seq(translate_sentence, source_vocab_to_int)\n",
    "\n",
    "loaded_graph = tf.Graph()\n",
    "with tf.Session(graph=loaded_graph) as sess:\n",
    "    # Load saved model\n",
    "    loader = tf.train.import_meta_graph(load_path + '.meta')\n",
    "    loader.restore(sess, load_path)\n",
    "\n",
    "    input_data = loaded_graph.get_tensor_by_name('input:0')\n",
    "    logits = loaded_graph.get_tensor_by_name('logits:0')\n",
    "    keep_prob = loaded_graph.get_tensor_by_name('keep_prob:0')\n",
    "\n",
    "    translate_logits = sess.run(logits, {input_data: [translate_sentence], keep_prob: 1.0})[0]\n",
    "\n",
    "print('Input')\n",
    "print('  Word Ids:      {}'.format([i for i in translate_sentence]))\n",
    "print('  English Words: {}'.format([source_int_to_vocab[i] for i in translate_sentence]))\n",
    "\n",
    "print('\\nPrediction')\n",
    "print('  Word Ids:      {}'.format([i for i in np.argmax(translate_logits, 1)]))\n",
    "print('  French Words: {}'.format([target_int_to_vocab[i] for i in np.argmax(translate_logits, 1)]))"
   ]
  },
  {
   "cell_type": "markdown",
   "metadata": {
    "deletable": true,
    "editable": true
   },
   "source": [
    "## Imperfect Translation\n",
    "You might notice that some sentences translate better than others.  Since the dataset you're using only has a vocabulary of 227 English words of the thousands that you use, you're only going to see good results using these words.  For this project, you don't need a perfect translation. However, if you want to create a better translation model, you'll need better data.\n",
    "\n",
    "You can train on the [WMT10 French-English corpus](http://www.statmt.org/wmt10/training-giga-fren.tar).  This dataset has more vocabulary and richer in topics discussed.  However, this will take you days to train, so make sure you've a GPU and the neural network is performing well on dataset we provided.  Just make sure you play with the WMT10 corpus after you've submitted this project.\n",
    "## Submitting This Project\n",
    "When submitting this project, make sure to run all the cells before saving the notebook. Save the notebook file as \"dlnd_language_translation.ipynb\" and save it as a HTML file under \"File\" -> \"Download as\". Include the \"helper.py\" and \"problem_unittests.py\" files in your submission."
   ]
  }
 ],
 "metadata": {
  "kernelspec": {
   "display_name": "Python [default]",
   "language": "python",
   "name": "python3"
  },
  "language_info": {
   "codemirror_mode": {
    "name": "ipython",
    "version": 3
   },
   "file_extension": ".py",
   "mimetype": "text/x-python",
   "name": "python",
   "nbconvert_exporter": "python",
   "pygments_lexer": "ipython3",
   "version": "3.5.2"
  }
 },
 "nbformat": 4,
 "nbformat_minor": 0
}
